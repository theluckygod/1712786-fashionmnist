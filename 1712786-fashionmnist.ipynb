{
 "cells": [
  {
   "cell_type": "markdown",
   "metadata": {
    "id": "N6AlB9MQ7NdM"
   },
   "source": [
    "# LOAD DATASET"
   ]
  },
  {
   "cell_type": "code",
   "execution_count": 1,
   "metadata": {
    "_cell_guid": "b1076dfc-b9ad-4769-8c92-a6c4dae69d19",
    "_uuid": "8f2839f25d086af736a60e9eeb907d3b93b6e0e5",
    "id": "fl190ePv7NdN"
   },
   "outputs": [
    {
     "name": "stdout",
     "output_type": "stream",
     "text": [
      "/kaggle/input/fashionmnist/train-images-idx3-ubyte\n",
      "/kaggle/input/fashionmnist/t10k-labels-idx1-ubyte\n",
      "/kaggle/input/fashionmnist/fashion-mnist_test.csv\n",
      "/kaggle/input/fashionmnist/train-labels-idx1-ubyte\n",
      "/kaggle/input/fashionmnist/fashion-mnist_train.csv\n",
      "/kaggle/input/fashionmnist/t10k-images-idx3-ubyte\n"
     ]
    }
   ],
   "source": [
    "# This Python 3 environment comes with many helpful analytics libraries installed\n",
    "# It is defined by the kaggle/python Docker image: https://github.com/kaggle/docker-python\n",
    "# For example, here's several helpful packages to load\n",
    "\n",
    "import numpy as np # linear algebra\n",
    "import pandas as pd # data processing, CSV file I/O (e.g. pd.read_csv)\n",
    "\n",
    "# Input data files are available in the read-only \"../input/\" directory\n",
    "# For example, running this (by clicking run or pressing Shift+Enter) will list all files under the input directory\n",
    "\n",
    "import os\n",
    "for dirname, _, filenames in os.walk('/kaggle/input'):\n",
    "    for filename in filenames:\n",
    "        print(os.path.join(dirname, filename))\n",
    "\n",
    "# You can write up to 5GB to the current directory (/kaggle/working/) that gets preserved as output when you create a version using \"Save & Run All\" \n",
    "# You can also write temporary files to /kaggle/temp/, but they won't be saved outside of the current session"
   ]
  },
  {
   "cell_type": "code",
   "execution_count": 2,
   "metadata": {
    "id": "juUvg4_Z7NdR"
   },
   "outputs": [],
   "source": [
    "def load_fashion_data(csv_fashion_path):\n",
    "    return pd.read_csv(csv_fashion_path)"
   ]
  },
  {
   "cell_type": "code",
   "execution_count": 3,
   "metadata": {
    "id": "SwAuoVxJ7NdU"
   },
   "outputs": [],
   "source": [
    "FASHION_TRAIN_PATH = '/kaggle/input/fashionmnist/fashion-mnist_train.csv'\n",
    "FASHION_TEST_PATH = '/kaggle/input/fashionmnist/fashion-mnist_test.csv'\n",
    "\n",
    "train_set = load_fashion_data(FASHION_TRAIN_PATH)\n",
    "test_set = load_fashion_data(FASHION_TEST_PATH)"
   ]
  },
  {
   "cell_type": "markdown",
   "metadata": {
    "id": "hLiruwQ57NdW"
   },
   "source": [
    "# INSPECT AND PREPROCESS THE DATA"
   ]
  },
  {
   "cell_type": "code",
   "execution_count": 4,
   "metadata": {
    "id": "9CBkpSFb7NdX",
    "outputId": "ba2ae48c-478f-4ee0-d941-113f4951931a"
   },
   "outputs": [
    {
     "name": "stdout",
     "output_type": "stream",
     "text": [
      "Number of train samples:  60000\n",
      "Number of test samples:  10000\n"
     ]
    }
   ],
   "source": [
    "name_labels = ['T-shirt/top', 'Trouser', 'Pullover', 'Dress', 'Coat', 'Sandal', 'Shirt', 'Sneaker', 'Bag', 'Ankle boot']\n",
    "\n",
    "train_labels = train_set.iloc[:, 0]\n",
    "train_data = train_set.iloc[:, 1:]\n",
    "test_labels = test_set.iloc[:, 0]\n",
    "test_data = test_set.iloc[:, 1:]\n",
    "\n",
    "m_train = train_data.shape[0]\n",
    "m_test = test_data.shape[0]\n",
    "num_classes = 10\n",
    "n = 28\n",
    "n_flatten = 28*28\n",
    "\n",
    "print(\"Number of train samples: \", m_train)\n",
    "print(\"Number of test samples: \", m_test)"
   ]
  },
  {
   "cell_type": "code",
   "execution_count": 5,
   "metadata": {
    "id": "gUFBXnuP7NdZ",
    "outputId": "1d7c4776-608f-412c-b998-9ddc3393d61e"
   },
   "outputs": [
    {
     "data": {
      "text/plain": [
       "9    6000\n",
       "8    6000\n",
       "7    6000\n",
       "6    6000\n",
       "5    6000\n",
       "4    6000\n",
       "3    6000\n",
       "2    6000\n",
       "1    6000\n",
       "0    6000\n",
       "Name: label, dtype: int64"
      ]
     },
     "execution_count": 5,
     "metadata": {},
     "output_type": "execute_result"
    }
   ],
   "source": [
    "train_labels.value_counts()"
   ]
  },
  {
   "cell_type": "code",
   "execution_count": 6,
   "metadata": {
    "id": "-mZTsyfG7Ndb",
    "outputId": "9d8177f0-c2be-41a4-ac11-d7818cfd08e8"
   },
   "outputs": [
    {
     "data": {
      "text/plain": [
       "7    1000\n",
       "6    1000\n",
       "5    1000\n",
       "4    1000\n",
       "3    1000\n",
       "2    1000\n",
       "9    1000\n",
       "1    1000\n",
       "8    1000\n",
       "0    1000\n",
       "Name: label, dtype: int64"
      ]
     },
     "execution_count": 6,
     "metadata": {},
     "output_type": "execute_result"
    }
   ],
   "source": [
    "test_labels.value_counts()"
   ]
  },
  {
   "cell_type": "markdown",
   "metadata": {
    "id": "QIga2ZzU7Ndd"
   },
   "source": [
    "Số lượng mẫu ở mỗi lớp đều bằng nhau, là 6000 mẫu ở tập train và 1000 mẫu ở tập test"
   ]
  },
  {
   "cell_type": "code",
   "execution_count": 7,
   "metadata": {
    "id": "ie6KKOo-7Nde",
    "outputId": "ee4f4a6f-e661-4469-cf9f-f89442201045"
   },
   "outputs": [
    {
     "data": {
      "image/png": "[encoded data removed]",
      "text/plain": [
       "<Figure size 2016x2016 with 10 Axes>"
      ]
     },
     "metadata": {
      "needs_background": "light"
     },
     "output_type": "display_data"
    }
   ],
   "source": [
    "import matplotlib.pyplot as plt\n",
    "\n",
    "random_idx = np.random.choice(m_train, 10)\n",
    "\n",
    "fig, ax = plt.subplots(1, 10, figsize=(28,28))\n",
    "for i in range(10):\n",
    "    ax[i].set_axis_off()\n",
    "    ax[i].imshow(train_data.iloc[random_idx[i]].to_numpy().reshape((n, n)))\n",
    "    ax[i].set_title(name_labels[train_labels[random_idx[i]]])"
   ]
  },
  {
   "cell_type": "markdown",
   "metadata": {
    "id": "qSgi9uDe7Ndh"
   },
   "source": [
    "# TRAIN THE BASELINE MODEL (BASIC NEURAL NETWORK)"
   ]
  },
  {
   "cell_type": "markdown",
   "metadata": {
    "id": "L4_qmCbV7Ndh"
   },
   "source": [
    "### CREATE MODEL"
   ]
  },
  {
   "cell_type": "code",
   "execution_count": 8,
   "metadata": {
    "id": "UL6fWzfY7Ndh"
   },
   "outputs": [],
   "source": [
    "import tensorflow\n",
    "from tensorflow.keras.models import Sequential\n",
    "from tensorflow.keras.layers import Dense\n",
    "from tensorflow.keras.callbacks import ModelCheckpoint"
   ]
  },
  {
   "cell_type": "code",
   "execution_count": 9,
   "metadata": {
    "id": "SVKDYtZt7Ndj"
   },
   "outputs": [],
   "source": [
    "def get_baseline_model(input_shape):\n",
    "    model = Sequential([\n",
    "        Dense(input_shape=input_shape, units=256, activation='relu'),\n",
    "        Dense(units=256, activation='relu'),\n",
    "        Dense(units=256, activation='relu'),\n",
    "        Dense(units=256, activation='relu'),\n",
    "        Dense(units=256, activation='relu'),\n",
    "        Dense(units=10, activation='softmax')\n",
    "    ])\n",
    "    model.compile(optimizer='adam',\n",
    "                 loss='categorical_crossentropy',\n",
    "                 metrics=['accuracy'])\n",
    "    return model"
   ]
  },
  {
   "cell_type": "code",
   "execution_count": 10,
   "metadata": {
    "id": "wRsYA05m7Ndl",
    "outputId": "3c240432-3e26-4f5b-f41a-efc96b363535"
   },
   "outputs": [
    {
     "name": "stdout",
     "output_type": "stream",
     "text": [
      "Model: \"sequential\"\n",
      "_________________________________________________________________\n",
      "Layer (type)                 Output Shape              Param #   \n",
      "=================================================================\n",
      "dense (Dense)                (None, 256)               200960    \n",
      "_________________________________________________________________\n",
      "dense_1 (Dense)              (None, 256)               65792     \n",
      "_________________________________________________________________\n",
      "dense_2 (Dense)              (None, 256)               65792     \n",
      "_________________________________________________________________\n",
      "dense_3 (Dense)              (None, 256)               65792     \n",
      "_________________________________________________________________\n",
      "dense_4 (Dense)              (None, 256)               65792     \n",
      "_________________________________________________________________\n",
      "dense_5 (Dense)              (None, 10)                2570      \n",
      "=================================================================\n",
      "Total params: 466,698\n",
      "Trainable params: 466,698\n",
      "Non-trainable params: 0\n",
      "_________________________________________________________________\n"
     ]
    }
   ],
   "source": [
    "baseline_model = get_baseline_model(train_data.iloc[0].shape)\n",
    "baseline_model.summary()"
   ]
  },
  {
   "cell_type": "markdown",
   "metadata": {
    "id": "paqtxP1S7Ndo"
   },
   "source": [
    "### TRAIN MODEL"
   ]
  },
  {
   "cell_type": "code",
   "execution_count": 11,
   "metadata": {
    "id": "HFBKOgNF7Ndp"
   },
   "outputs": [],
   "source": [
    "def train_baseline_model(model, train_data, train_labels, split_validation, epochs=100, batch_size=128):\n",
    "    history = model.fit(train_data, train_labels,\n",
    "                       epochs=epochs, batch_size=batch_size,\n",
    "                       verbose=1,\n",
    "                       validation_split=split_validation,\n",
    "                       callbacks=[ModelCheckpoint('./baseline_model_checkpoint/checkpoint', monitor='val_accuracy', save_weights_only=True, save_best_only=True, frequency='epoch')])\n",
    "    return history"
   ]
  },
  {
   "cell_type": "code",
   "execution_count": 12,
   "metadata": {
    "id": "KPyt3qOS7Ndr"
   },
   "outputs": [],
   "source": [
    "from tensorflow import one_hot \n",
    "train_labels_onehot = one_hot(train_labels, num_classes).numpy()"
   ]
  },
  {
   "cell_type": "code",
   "execution_count": 13,
   "metadata": {
    "id": "11TpP7RA7Ndt",
    "outputId": "54dcac48-51a1-4e89-822a-c94bceb5a9ed"
   },
   "outputs": [
    {
     "name": "stdout",
     "output_type": "stream",
     "text": [
      "Epoch 1/100\n",
      "399/399 [==============================] - 2s 4ms/step - loss: 1.0947 - accuracy: 0.7730 - val_loss: 0.5132 - val_accuracy: 0.8199\n",
      "Epoch 2/100\n",
      "399/399 [==============================] - 1s 3ms/step - loss: 0.4564 - accuracy: 0.8384 - val_loss: 0.4398 - val_accuracy: 0.8426\n",
      "Epoch 3/100\n",
      "399/399 [==============================] - 1s 3ms/step - loss: 0.3984 - accuracy: 0.8553 - val_loss: 0.4258 - val_accuracy: 0.8479\n",
      "Epoch 4/100\n",
      "399/399 [==============================] - 1s 3ms/step - loss: 0.3766 - accuracy: 0.8617 - val_loss: 0.4074 - val_accuracy: 0.8530\n",
      "Epoch 5/100\n",
      "399/399 [==============================] - 1s 3ms/step - loss: 0.3510 - accuracy: 0.8700 - val_loss: 0.4521 - val_accuracy: 0.8362\n",
      "Epoch 6/100\n",
      "399/399 [==============================] - 1s 3ms/step - loss: 0.3437 - accuracy: 0.8742 - val_loss: 0.3908 - val_accuracy: 0.8612\n",
      "Epoch 7/100\n",
      "399/399 [==============================] - 2s 4ms/step - loss: 0.3266 - accuracy: 0.8808 - val_loss: 0.3657 - val_accuracy: 0.8719\n",
      "Epoch 8/100\n",
      "399/399 [==============================] - 2s 4ms/step - loss: 0.3151 - accuracy: 0.8863 - val_loss: 0.3936 - val_accuracy: 0.8666\n",
      "Epoch 9/100\n",
      "399/399 [==============================] - 1s 3ms/step - loss: 0.3113 - accuracy: 0.8846 - val_loss: 0.3623 - val_accuracy: 0.8743\n",
      "Epoch 10/100\n",
      "399/399 [==============================] - 1s 3ms/step - loss: 0.3040 - accuracy: 0.8867 - val_loss: 0.3862 - val_accuracy: 0.8674\n",
      "Epoch 11/100\n",
      "399/399 [==============================] - 1s 3ms/step - loss: 0.2959 - accuracy: 0.8914 - val_loss: 0.3872 - val_accuracy: 0.8680\n",
      "Epoch 12/100\n",
      "399/399 [==============================] - 1s 3ms/step - loss: 0.2907 - accuracy: 0.8938 - val_loss: 0.3746 - val_accuracy: 0.8660\n",
      "Epoch 13/100\n",
      "399/399 [==============================] - 1s 3ms/step - loss: 0.2883 - accuracy: 0.8943 - val_loss: 0.3855 - val_accuracy: 0.8676\n",
      "Epoch 14/100\n",
      "399/399 [==============================] - 2s 4ms/step - loss: 0.2766 - accuracy: 0.8966 - val_loss: 0.3539 - val_accuracy: 0.8831\n",
      "Epoch 15/100\n",
      "399/399 [==============================] - 1s 4ms/step - loss: 0.2730 - accuracy: 0.8987 - val_loss: 0.3681 - val_accuracy: 0.8709\n",
      "Epoch 16/100\n",
      "399/399 [==============================] - 1s 3ms/step - loss: 0.2621 - accuracy: 0.9024 - val_loss: 0.3786 - val_accuracy: 0.8739\n",
      "Epoch 17/100\n",
      "399/399 [==============================] - 1s 4ms/step - loss: 0.2570 - accuracy: 0.9053 - val_loss: 0.3586 - val_accuracy: 0.8791\n",
      "Epoch 18/100\n",
      "399/399 [==============================] - 1s 3ms/step - loss: 0.2505 - accuracy: 0.9076 - val_loss: 0.3338 - val_accuracy: 0.8852\n",
      "Epoch 19/100\n",
      "399/399 [==============================] - 1s 3ms/step - loss: 0.2505 - accuracy: 0.9069 - val_loss: 0.3661 - val_accuracy: 0.8832\n",
      "Epoch 20/100\n",
      "399/399 [==============================] - 1s 3ms/step - loss: 0.2427 - accuracy: 0.9105 - val_loss: 0.3957 - val_accuracy: 0.8792\n",
      "Epoch 21/100\n",
      "399/399 [==============================] - 1s 3ms/step - loss: 0.2423 - accuracy: 0.9098 - val_loss: 0.3643 - val_accuracy: 0.8863\n",
      "Epoch 22/100\n",
      "399/399 [==============================] - 2s 4ms/step - loss: 0.2412 - accuracy: 0.9113 - val_loss: 0.3837 - val_accuracy: 0.8661\n",
      "Epoch 23/100\n",
      "399/399 [==============================] - 1s 3ms/step - loss: 0.2298 - accuracy: 0.9130 - val_loss: 0.3726 - val_accuracy: 0.8786\n",
      "Epoch 24/100\n",
      "399/399 [==============================] - 1s 3ms/step - loss: 0.2259 - accuracy: 0.9162 - val_loss: 0.3834 - val_accuracy: 0.8818\n",
      "Epoch 25/100\n",
      "399/399 [==============================] - 1s 3ms/step - loss: 0.2297 - accuracy: 0.9147 - val_loss: 0.3629 - val_accuracy: 0.8832\n",
      "Epoch 26/100\n",
      "399/399 [==============================] - 1s 3ms/step - loss: 0.2235 - accuracy: 0.9163 - val_loss: 0.3728 - val_accuracy: 0.8847\n",
      "Epoch 27/100\n",
      "399/399 [==============================] - 1s 4ms/step - loss: 0.2086 - accuracy: 0.9214 - val_loss: 0.3711 - val_accuracy: 0.8882\n",
      "Epoch 28/100\n",
      "399/399 [==============================] - 1s 4ms/step - loss: 0.2151 - accuracy: 0.9193 - val_loss: 0.3722 - val_accuracy: 0.8813\n",
      "Epoch 29/100\n",
      "399/399 [==============================] - 1s 4ms/step - loss: 0.2086 - accuracy: 0.9223 - val_loss: 0.4010 - val_accuracy: 0.8751\n",
      "Epoch 30/100\n",
      "399/399 [==============================] - 3s 7ms/step - loss: 0.2132 - accuracy: 0.9215 - val_loss: 0.3643 - val_accuracy: 0.8867\n",
      "Epoch 31/100\n",
      "399/399 [==============================] - 1s 4ms/step - loss: 0.1948 - accuracy: 0.9291 - val_loss: 0.3788 - val_accuracy: 0.8873\n",
      "Epoch 32/100\n",
      "399/399 [==============================] - 2s 4ms/step - loss: 0.1952 - accuracy: 0.9272 - val_loss: 0.3685 - val_accuracy: 0.8877\n",
      "Epoch 33/100\n",
      "399/399 [==============================] - 2s 4ms/step - loss: 0.1886 - accuracy: 0.9289 - val_loss: 0.3777 - val_accuracy: 0.8898\n",
      "Epoch 34/100\n",
      "399/399 [==============================] - 1s 3ms/step - loss: 0.1925 - accuracy: 0.9272 - val_loss: 0.4020 - val_accuracy: 0.8800\n",
      "Epoch 35/100\n",
      "399/399 [==============================] - 1s 3ms/step - loss: 0.1937 - accuracy: 0.9278 - val_loss: 0.4154 - val_accuracy: 0.8876\n",
      "Epoch 36/100\n",
      "399/399 [==============================] - 2s 4ms/step - loss: 0.1880 - accuracy: 0.9301 - val_loss: 0.3895 - val_accuracy: 0.8844\n",
      "Epoch 37/100\n",
      "399/399 [==============================] - 1s 4ms/step - loss: 0.1862 - accuracy: 0.9311 - val_loss: 0.4032 - val_accuracy: 0.8903\n",
      "Epoch 38/100\n",
      "399/399 [==============================] - 1s 3ms/step - loss: 0.1703 - accuracy: 0.9353 - val_loss: 0.3799 - val_accuracy: 0.8908\n",
      "Epoch 39/100\n",
      "399/399 [==============================] - 1s 3ms/step - loss: 0.1731 - accuracy: 0.9344 - val_loss: 0.3990 - val_accuracy: 0.8921\n",
      "Epoch 40/100\n",
      "399/399 [==============================] - 1s 3ms/step - loss: 0.1730 - accuracy: 0.9354 - val_loss: 0.4288 - val_accuracy: 0.8916\n",
      "Epoch 41/100\n",
      "399/399 [==============================] - 1s 3ms/step - loss: 0.1653 - accuracy: 0.9381 - val_loss: 0.4326 - val_accuracy: 0.8834\n",
      "Epoch 42/100\n",
      "399/399 [==============================] - 1s 3ms/step - loss: 0.1727 - accuracy: 0.9366 - val_loss: 0.3962 - val_accuracy: 0.8886\n",
      "Epoch 43/100\n",
      "399/399 [==============================] - 1s 3ms/step - loss: 0.1755 - accuracy: 0.9369 - val_loss: 0.4231 - val_accuracy: 0.8854\n",
      "Epoch 44/100\n",
      "399/399 [==============================] - 2s 4ms/step - loss: 0.1660 - accuracy: 0.9373 - val_loss: 0.4260 - val_accuracy: 0.8839\n",
      "Epoch 45/100\n",
      "399/399 [==============================] - 1s 3ms/step - loss: 0.1575 - accuracy: 0.9410 - val_loss: 0.4518 - val_accuracy: 0.8852\n",
      "Epoch 46/100\n",
      "399/399 [==============================] - 1s 3ms/step - loss: 0.1547 - accuracy: 0.9405 - val_loss: 0.4614 - val_accuracy: 0.8860\n",
      "Epoch 47/100\n",
      "399/399 [==============================] - 1s 3ms/step - loss: 0.1557 - accuracy: 0.9413 - val_loss: 0.4251 - val_accuracy: 0.8897\n",
      "Epoch 48/100\n",
      "399/399 [==============================] - 1s 3ms/step - loss: 0.1515 - accuracy: 0.9430 - val_loss: 0.4686 - val_accuracy: 0.8874\n",
      "Epoch 49/100\n",
      "399/399 [==============================] - 1s 3ms/step - loss: 0.1608 - accuracy: 0.9396 - val_loss: 0.4436 - val_accuracy: 0.8930\n",
      "Epoch 50/100\n",
      "399/399 [==============================] - 1s 3ms/step - loss: 0.1448 - accuracy: 0.9459 - val_loss: 0.4896 - val_accuracy: 0.8817\n",
      "Epoch 51/100\n",
      "399/399 [==============================] - 1s 3ms/step - loss: 0.1525 - accuracy: 0.9435 - val_loss: 0.5066 - val_accuracy: 0.8896\n",
      "Epoch 52/100\n",
      "399/399 [==============================] - 2s 5ms/step - loss: 0.1578 - accuracy: 0.9418 - val_loss: 0.4537 - val_accuracy: 0.8948\n",
      "Epoch 53/100\n",
      "399/399 [==============================] - 1s 3ms/step - loss: 0.1385 - accuracy: 0.9482 - val_loss: 0.4864 - val_accuracy: 0.8932\n",
      "Epoch 54/100\n",
      "399/399 [==============================] - 1s 3ms/step - loss: 0.1476 - accuracy: 0.9446 - val_loss: 0.4808 - val_accuracy: 0.8867\n",
      "Epoch 55/100\n",
      "399/399 [==============================] - 1s 3ms/step - loss: 0.1432 - accuracy: 0.9466 - val_loss: 0.4941 - val_accuracy: 0.8863\n",
      "Epoch 56/100\n",
      "399/399 [==============================] - 1s 3ms/step - loss: 0.1585 - accuracy: 0.9456 - val_loss: 0.4217 - val_accuracy: 0.8906\n",
      "Epoch 57/100\n",
      "399/399 [==============================] - 1s 3ms/step - loss: 0.1448 - accuracy: 0.9478 - val_loss: 0.4445 - val_accuracy: 0.8923\n"
     ]
    },
    {
     "name": "stdout",
     "output_type": "stream",
     "text": [
      "Epoch 58/100\n",
      "399/399 [==============================] - 1s 3ms/step - loss: 0.1345 - accuracy: 0.9491 - val_loss: 0.5145 - val_accuracy: 0.8822\n",
      "Epoch 59/100\n",
      "399/399 [==============================] - 1s 4ms/step - loss: 0.1318 - accuracy: 0.9518 - val_loss: 0.4965 - val_accuracy: 0.8870\n",
      "Epoch 60/100\n",
      "399/399 [==============================] - 1s 4ms/step - loss: 0.1323 - accuracy: 0.9511 - val_loss: 0.5388 - val_accuracy: 0.8856\n",
      "Epoch 61/100\n",
      "399/399 [==============================] - 1s 3ms/step - loss: 0.1324 - accuracy: 0.9511 - val_loss: 0.5030 - val_accuracy: 0.8960\n",
      "Epoch 62/100\n",
      "399/399 [==============================] - 1s 3ms/step - loss: 0.1253 - accuracy: 0.9532 - val_loss: 0.5003 - val_accuracy: 0.8889\n",
      "Epoch 63/100\n",
      "399/399 [==============================] - 1s 3ms/step - loss: 0.1249 - accuracy: 0.9535 - val_loss: 0.5032 - val_accuracy: 0.8867\n",
      "Epoch 64/100\n",
      "399/399 [==============================] - 1s 3ms/step - loss: 0.1172 - accuracy: 0.9558 - val_loss: 0.5348 - val_accuracy: 0.8879\n",
      "Epoch 65/100\n",
      "399/399 [==============================] - 1s 3ms/step - loss: 0.1493 - accuracy: 0.9472 - val_loss: 0.4972 - val_accuracy: 0.8909\n",
      "Epoch 66/100\n",
      "399/399 [==============================] - 1s 3ms/step - loss: 0.1299 - accuracy: 0.9532 - val_loss: 0.5501 - val_accuracy: 0.8860\n",
      "Epoch 67/100\n",
      "399/399 [==============================] - 1s 3ms/step - loss: 0.1264 - accuracy: 0.9537 - val_loss: 0.4983 - val_accuracy: 0.8884\n",
      "Epoch 68/100\n",
      "399/399 [==============================] - 2s 4ms/step - loss: 0.1137 - accuracy: 0.9582 - val_loss: 0.5553 - val_accuracy: 0.8878\n",
      "Epoch 69/100\n",
      "399/399 [==============================] - 1s 3ms/step - loss: 0.1229 - accuracy: 0.9555 - val_loss: 0.5322 - val_accuracy: 0.8984\n",
      "Epoch 70/100\n",
      "399/399 [==============================] - 1s 3ms/step - loss: 0.1227 - accuracy: 0.9551 - val_loss: 0.5450 - val_accuracy: 0.8907\n",
      "Epoch 71/100\n",
      "399/399 [==============================] - 2s 4ms/step - loss: 0.1253 - accuracy: 0.9554 - val_loss: 0.5024 - val_accuracy: 0.8908\n",
      "Epoch 72/100\n",
      "399/399 [==============================] - 2s 4ms/step - loss: 0.1092 - accuracy: 0.9596 - val_loss: 0.6768 - val_accuracy: 0.8857\n",
      "Epoch 73/100\n",
      "399/399 [==============================] - 1s 3ms/step - loss: 0.1191 - accuracy: 0.9568 - val_loss: 0.5659 - val_accuracy: 0.8900\n",
      "Epoch 74/100\n",
      "399/399 [==============================] - 1s 3ms/step - loss: 0.1060 - accuracy: 0.9609 - val_loss: 0.6117 - val_accuracy: 0.8909\n",
      "Epoch 75/100\n",
      "399/399 [==============================] - 2s 6ms/step - loss: 0.1078 - accuracy: 0.9608 - val_loss: 0.4962 - val_accuracy: 0.8826\n",
      "Epoch 76/100\n",
      "399/399 [==============================] - 1s 4ms/step - loss: 0.1176 - accuracy: 0.9574 - val_loss: 0.6286 - val_accuracy: 0.8873\n",
      "Epoch 77/100\n",
      "399/399 [==============================] - 1s 4ms/step - loss: 0.1261 - accuracy: 0.9568 - val_loss: 0.5771 - val_accuracy: 0.8904\n",
      "Epoch 78/100\n",
      "399/399 [==============================] - 1s 4ms/step - loss: 0.0963 - accuracy: 0.9640 - val_loss: 0.6318 - val_accuracy: 0.8907\n",
      "Epoch 79/100\n",
      "399/399 [==============================] - 1s 4ms/step - loss: 0.1040 - accuracy: 0.9631 - val_loss: 0.6675 - val_accuracy: 0.8903\n",
      "Epoch 80/100\n",
      "399/399 [==============================] - 1s 4ms/step - loss: 0.1112 - accuracy: 0.9596 - val_loss: 0.5737 - val_accuracy: 0.8838\n",
      "Epoch 81/100\n",
      "399/399 [==============================] - 1s 4ms/step - loss: 0.1018 - accuracy: 0.9630 - val_loss: 0.6287 - val_accuracy: 0.8869\n",
      "Epoch 82/100\n",
      "399/399 [==============================] - 2s 4ms/step - loss: 0.1242 - accuracy: 0.9575 - val_loss: 0.5666 - val_accuracy: 0.8904\n",
      "Epoch 83/100\n",
      "399/399 [==============================] - 1s 3ms/step - loss: 0.1061 - accuracy: 0.9605 - val_loss: 0.6915 - val_accuracy: 0.8944\n",
      "Epoch 84/100\n",
      "399/399 [==============================] - 1s 3ms/step - loss: 0.0983 - accuracy: 0.9636 - val_loss: 0.6161 - val_accuracy: 0.8874\n",
      "Epoch 85/100\n",
      "399/399 [==============================] - 1s 3ms/step - loss: 0.0948 - accuracy: 0.9653 - val_loss: 0.5706 - val_accuracy: 0.8923\n",
      "Epoch 86/100\n",
      "399/399 [==============================] - 1s 3ms/step - loss: 0.1170 - accuracy: 0.9594 - val_loss: 0.6274 - val_accuracy: 0.8872\n",
      "Epoch 87/100\n",
      "399/399 [==============================] - 1s 3ms/step - loss: 0.0983 - accuracy: 0.9647 - val_loss: 0.7319 - val_accuracy: 0.8917\n",
      "Epoch 88/100\n",
      "399/399 [==============================] - 1s 3ms/step - loss: 0.1042 - accuracy: 0.9644 - val_loss: 0.5692 - val_accuracy: 0.8899\n",
      "Epoch 89/100\n",
      "399/399 [==============================] - 1s 3ms/step - loss: 0.0951 - accuracy: 0.9658 - val_loss: 0.6954 - val_accuracy: 0.8879\n",
      "Epoch 90/100\n",
      "399/399 [==============================] - 2s 4ms/step - loss: 0.0863 - accuracy: 0.9684 - val_loss: 0.7159 - val_accuracy: 0.8874\n",
      "Epoch 91/100\n",
      "399/399 [==============================] - 1s 3ms/step - loss: 0.0890 - accuracy: 0.9679 - val_loss: 0.6552 - val_accuracy: 0.8897\n",
      "Epoch 92/100\n",
      "399/399 [==============================] - 1s 3ms/step - loss: 0.0905 - accuracy: 0.9669 - val_loss: 0.6988 - val_accuracy: 0.8896\n",
      "Epoch 93/100\n",
      "399/399 [==============================] - 1s 3ms/step - loss: 0.1042 - accuracy: 0.9635 - val_loss: 0.6763 - val_accuracy: 0.8917\n",
      "Epoch 94/100\n",
      "399/399 [==============================] - 1s 3ms/step - loss: 0.1039 - accuracy: 0.9635 - val_loss: 0.6063 - val_accuracy: 0.8917\n",
      "Epoch 95/100\n",
      "399/399 [==============================] - 1s 3ms/step - loss: 0.0962 - accuracy: 0.9662 - val_loss: 0.8898 - val_accuracy: 0.8888\n",
      "Epoch 96/100\n",
      "399/399 [==============================] - 1s 3ms/step - loss: 0.1224 - accuracy: 0.9584 - val_loss: 0.5707 - val_accuracy: 0.8904\n",
      "Epoch 97/100\n",
      "399/399 [==============================] - 2s 4ms/step - loss: 0.0849 - accuracy: 0.9694 - val_loss: 0.7721 - val_accuracy: 0.8904\n",
      "Epoch 98/100\n",
      "399/399 [==============================] - 2s 4ms/step - loss: 0.0893 - accuracy: 0.9677 - val_loss: 0.8795 - val_accuracy: 0.8954\n",
      "Epoch 99/100\n",
      "399/399 [==============================] - 1s 3ms/step - loss: 0.0725 - accuracy: 0.9729 - val_loss: 1.1496 - val_accuracy: 0.8964\n",
      "Epoch 100/100\n",
      "399/399 [==============================] - 1s 3ms/step - loss: 0.1031 - accuracy: 0.9649 - val_loss: 0.7771 - val_accuracy: 0.8732\n"
     ]
    }
   ],
   "source": [
    "history = train_baseline_model(baseline_model, train_data, train_labels_onehot, 0.15)"
   ]
  },
  {
   "cell_type": "code",
   "execution_count": 14,
   "metadata": {
    "id": "AcoXCOTN7Ndv",
    "outputId": "c5b1b79d-e7c7-4dfc-f93a-3122f1a5f050"
   },
   "outputs": [
    {
     "data": {
      "text/plain": [
       "<matplotlib.axes._subplots.AxesSubplot at 0x7fafcc160cd0>"
      ]
     },
     "execution_count": 14,
     "metadata": {},
     "output_type": "execute_result"
    },
    {
     "data": {
      "image/png": "[encoded data removed]",
      "text/plain": [
       "<Figure size 432x288 with 1 Axes>"
      ]
     },
     "metadata": {
      "needs_background": "light"
     },
     "output_type": "display_data"
    },
    {
     "data": {
      "image/png": "[encoded data removed]",
      "text/plain": [
       "<Figure size 432x288 with 1 Axes>"
      ]
     },
     "metadata": {
      "needs_background": "light"
     },
     "output_type": "display_data"
    }
   ],
   "source": [
    "df = pd.DataFrame(history.history)\n",
    "df.plot(y=['loss', 'val_loss'])\n",
    "df.plot(y=['accuracy', 'val_accuracy'])"
   ]
  },
  {
   "cell_type": "markdown",
   "metadata": {
    "id": "AyoYSoBh7Ndy"
   },
   "source": [
    "Từ đồ thị học, em nhận thấy baseline model cũng khá hiệu quả (val accuracy >87.5%) nhưng train accuracy có thể đạt cao hơn đến hơn 95%. Model khởi đầu của em đã bị overfit. Phần tiếp theo em sẽ cố gắng dùng các kĩ thuật dễ xử lý overfit (regularization l2, Dropout)"
   ]
  },
  {
   "cell_type": "markdown",
   "metadata": {
    "id": "jDCn-8Zh7Ndy"
   },
   "source": [
    "# TRAIN MODEL WITH REGULARIZATION"
   ]
  },
  {
   "cell_type": "code",
   "execution_count": 15,
   "metadata": {
    "id": "wITFYGwL7Ndy"
   },
   "outputs": [],
   "source": [
    "from tensorflow.keras import regularizers\n",
    "from tensorflow.keras.layers import Dropout"
   ]
  },
  {
   "cell_type": "markdown",
   "metadata": {
    "id": "76jicY1x7Nd0"
   },
   "source": [
    "### CREATE MODEL"
   ]
  },
  {
   "cell_type": "code",
   "execution_count": 16,
   "metadata": {
    "id": "8wO0TCXb7Nd1"
   },
   "outputs": [],
   "source": [
    "def get_baseline_model_with_regularization(input_shape, dropout_rate, weight_decay):\n",
    "    model = Sequential([\n",
    "        Dense(input_shape=input_shape, units=256, activation='relu', kernel_regularizer=regularizers.l2(l=weight_decay)),\n",
    "        Dropout(rate=dropout_rate),\n",
    "        Dense(units=256, activation='relu', kernel_regularizer=regularizers.l2(l=weight_decay)),\n",
    "        Dropout(rate=dropout_rate),\n",
    "        Dense(units=256, activation='relu', kernel_regularizer=regularizers.l2(l=weight_decay)),\n",
    "        Dropout(rate=dropout_rate),\n",
    "        Dense(units=256, activation='relu', kernel_regularizer=regularizers.l2(l=weight_decay)),\n",
    "        Dropout(rate=dropout_rate),\n",
    "        Dense(units=256, activation='relu', kernel_regularizer=regularizers.l2(l=weight_decay)),\n",
    "        Dropout(rate=dropout_rate),\n",
    "        Dense(units=10, activation='softmax')\n",
    "    ])\n",
    "    model.compile(optimizer='adam',\n",
    "                 loss='categorical_crossentropy',\n",
    "                 metrics=['accuracy'])\n",
    "    return model"
   ]
  },
  {
   "cell_type": "code",
   "execution_count": 17,
   "metadata": {
    "id": "wenHP49N7Nd3",
    "outputId": "f5cd9783-4003-45af-c2d2-88a391b57358"
   },
   "outputs": [
    {
     "name": "stdout",
     "output_type": "stream",
     "text": [
      "Model: \"sequential_1\"\n",
      "_________________________________________________________________\n",
      "Layer (type)                 Output Shape              Param #   \n",
      "=================================================================\n",
      "dense_6 (Dense)              (None, 256)               200960    \n",
      "_________________________________________________________________\n",
      "dropout (Dropout)            (None, 256)               0         \n",
      "_________________________________________________________________\n",
      "dense_7 (Dense)              (None, 256)               65792     \n",
      "_________________________________________________________________\n",
      "dropout_1 (Dropout)          (None, 256)               0         \n",
      "_________________________________________________________________\n",
      "dense_8 (Dense)              (None, 256)               65792     \n",
      "_________________________________________________________________\n",
      "dropout_2 (Dropout)          (None, 256)               0         \n",
      "_________________________________________________________________\n",
      "dense_9 (Dense)              (None, 256)               65792     \n",
      "_________________________________________________________________\n",
      "dropout_3 (Dropout)          (None, 256)               0         \n",
      "_________________________________________________________________\n",
      "dense_10 (Dense)             (None, 256)               65792     \n",
      "_________________________________________________________________\n",
      "dropout_4 (Dropout)          (None, 256)               0         \n",
      "_________________________________________________________________\n",
      "dense_11 (Dense)             (None, 10)                2570      \n",
      "=================================================================\n",
      "Total params: 466,698\n",
      "Trainable params: 466,698\n",
      "Non-trainable params: 0\n",
      "_________________________________________________________________\n"
     ]
    }
   ],
   "source": [
    "baseline_model_with_regularization = get_baseline_model_with_regularization(train_data.iloc[0].shape, 0.3, 3e-4)\n",
    "baseline_model_with_regularization.summary()"
   ]
  },
  {
   "cell_type": "markdown",
   "metadata": {
    "id": "yUCnRPky7Nd5"
   },
   "source": [
    "### TRAIN MODEL"
   ]
  },
  {
   "cell_type": "code",
   "execution_count": 18,
   "metadata": {
    "id": "6nvkFBEG7Nd5"
   },
   "outputs": [],
   "source": [
    "from tensorflow.keras.callbacks import EarlyStopping"
   ]
  },
  {
   "cell_type": "code",
   "execution_count": 19,
   "metadata": {
    "id": "lXPqwbi47Nd7"
   },
   "outputs": [],
   "source": [
    "def train_baseline_model_with_regularization(model, train_data, train_labels, split_validation, epochs=100, batch_size=128, patience=30):\n",
    "    history = model.fit(train_data, train_labels,\n",
    "                       epochs=epochs, batch_size=batch_size,\n",
    "                       verbose=1,\n",
    "                       validation_split=split_validation,\n",
    "                       callbacks=[EarlyStopping(patience=patience, monitor='val_accuracy'),\n",
    "                                  ModelCheckpoint('./baseline_model_with_regularization_checkpoint/checkpoint', monitor='val_accuracy', save_weights_only=True, save_best_only=True, frequency='epoch')])\n",
    "    return history"
   ]
  },
  {
   "cell_type": "code",
   "execution_count": 20,
   "metadata": {
    "id": "p99nwEUf7Nd9",
    "outputId": "816bcf59-4453-4bd6-aa46-7ae71a8e2925"
   },
   "outputs": [
    {
     "name": "stdout",
     "output_type": "stream",
     "text": [
      "Epoch 1/100\n",
      "100/100 [==============================] - 1s 8ms/step - loss: 6.2328 - accuracy: 0.2834 - val_loss: 1.9183 - val_accuracy: 0.5348\n",
      "Epoch 2/100\n",
      "100/100 [==============================] - 1s 6ms/step - loss: 1.8982 - accuracy: 0.4738 - val_loss: 1.4827 - val_accuracy: 0.6193\n",
      "Epoch 3/100\n",
      "100/100 [==============================] - 1s 6ms/step - loss: 1.6140 - accuracy: 0.5420 - val_loss: 1.3242 - val_accuracy: 0.6366\n",
      "Epoch 4/100\n",
      "100/100 [==============================] - 1s 5ms/step - loss: 1.4878 - accuracy: 0.5699 - val_loss: 1.2586 - val_accuracy: 0.6557\n",
      "Epoch 5/100\n",
      "100/100 [==============================] - 1s 5ms/step - loss: 1.3523 - accuracy: 0.6319 - val_loss: 1.1047 - val_accuracy: 0.7284\n",
      "Epoch 6/100\n",
      "100/100 [==============================] - 1s 5ms/step - loss: 1.2473 - accuracy: 0.6689 - val_loss: 1.0574 - val_accuracy: 0.7167\n",
      "Epoch 7/100\n",
      "100/100 [==============================] - 1s 5ms/step - loss: 1.1794 - accuracy: 0.6904 - val_loss: 1.0338 - val_accuracy: 0.7381\n",
      "Epoch 8/100\n",
      "100/100 [==============================] - 1s 6ms/step - loss: 1.1270 - accuracy: 0.7041 - val_loss: 1.0177 - val_accuracy: 0.7401\n",
      "Epoch 9/100\n",
      "100/100 [==============================] - 1s 6ms/step - loss: 1.1009 - accuracy: 0.7082 - val_loss: 0.9912 - val_accuracy: 0.7386\n",
      "Epoch 10/100\n",
      "100/100 [==============================] - 1s 7ms/step - loss: 1.0639 - accuracy: 0.7157 - val_loss: 0.9690 - val_accuracy: 0.7501\n",
      "Epoch 11/100\n",
      "100/100 [==============================] - 1s 6ms/step - loss: 1.0379 - accuracy: 0.7237 - val_loss: 0.9458 - val_accuracy: 0.7519\n",
      "Epoch 12/100\n",
      "100/100 [==============================] - 1s 6ms/step - loss: 1.0158 - accuracy: 0.7280 - val_loss: 0.9399 - val_accuracy: 0.7552\n",
      "Epoch 13/100\n",
      "100/100 [==============================] - 1s 6ms/step - loss: 0.9863 - accuracy: 0.7324 - val_loss: 0.9247 - val_accuracy: 0.7559\n",
      "Epoch 14/100\n",
      "100/100 [==============================] - 1s 5ms/step - loss: 0.9752 - accuracy: 0.7329 - val_loss: 0.9253 - val_accuracy: 0.7613\n",
      "Epoch 15/100\n",
      "100/100 [==============================] - 1s 5ms/step - loss: 0.9596 - accuracy: 0.7367 - val_loss: 0.9107 - val_accuracy: 0.7587\n",
      "Epoch 16/100\n",
      "100/100 [==============================] - 1s 5ms/step - loss: 0.9408 - accuracy: 0.7402 - val_loss: 0.8870 - val_accuracy: 0.7558\n",
      "Epoch 17/100\n",
      "100/100 [==============================] - 1s 5ms/step - loss: 0.9291 - accuracy: 0.7416 - val_loss: 0.8672 - val_accuracy: 0.7639\n",
      "Epoch 18/100\n",
      "100/100 [==============================] - 1s 5ms/step - loss: 0.9159 - accuracy: 0.7424 - val_loss: 0.8850 - val_accuracy: 0.7613\n",
      "Epoch 19/100\n",
      "100/100 [==============================] - 1s 5ms/step - loss: 0.9043 - accuracy: 0.7465 - val_loss: 0.8565 - val_accuracy: 0.7649\n",
      "Epoch 20/100\n",
      "100/100 [==============================] - 1s 6ms/step - loss: 0.8899 - accuracy: 0.7497 - val_loss: 0.8664 - val_accuracy: 0.7659\n",
      "Epoch 21/100\n",
      "100/100 [==============================] - 1s 5ms/step - loss: 0.8737 - accuracy: 0.7531 - val_loss: 0.8510 - val_accuracy: 0.7642\n",
      "Epoch 22/100\n",
      "100/100 [==============================] - 1s 6ms/step - loss: 0.8601 - accuracy: 0.7537 - val_loss: 0.8216 - val_accuracy: 0.7708\n",
      "Epoch 23/100\n",
      "100/100 [==============================] - 1s 5ms/step - loss: 0.8552 - accuracy: 0.7555 - val_loss: 0.8254 - val_accuracy: 0.7801\n",
      "Epoch 24/100\n",
      "100/100 [==============================] - 1s 5ms/step - loss: 0.8378 - accuracy: 0.7596 - val_loss: 0.8254 - val_accuracy: 0.7680\n",
      "Epoch 25/100\n",
      "100/100 [==============================] - 1s 5ms/step - loss: 0.8252 - accuracy: 0.7639 - val_loss: 0.8003 - val_accuracy: 0.7848\n",
      "Epoch 26/100\n",
      "100/100 [==============================] - 1s 5ms/step - loss: 0.8071 - accuracy: 0.7678 - val_loss: 0.7771 - val_accuracy: 0.7831\n",
      "Epoch 27/100\n",
      "100/100 [==============================] - 1s 6ms/step - loss: 0.7982 - accuracy: 0.7779 - val_loss: 0.7735 - val_accuracy: 0.7868\n",
      "Epoch 28/100\n",
      "100/100 [==============================] - 1s 11ms/step - loss: 0.7902 - accuracy: 0.7819 - val_loss: 0.7576 - val_accuracy: 0.8118\n",
      "Epoch 29/100\n",
      "100/100 [==============================] - 1s 8ms/step - loss: 0.7640 - accuracy: 0.7959 - val_loss: 0.7252 - val_accuracy: 0.8223\n",
      "Epoch 30/100\n",
      "100/100 [==============================] - 1s 5ms/step - loss: 0.7552 - accuracy: 0.8003 - val_loss: 0.7191 - val_accuracy: 0.8183\n",
      "Epoch 31/100\n",
      "100/100 [==============================] - 1s 5ms/step - loss: 0.7365 - accuracy: 0.8026 - val_loss: 0.7182 - val_accuracy: 0.8203\n",
      "Epoch 32/100\n",
      "100/100 [==============================] - 1s 5ms/step - loss: 0.7267 - accuracy: 0.8064 - val_loss: 0.7162 - val_accuracy: 0.8198\n",
      "Epoch 33/100\n",
      "100/100 [==============================] - 1s 6ms/step - loss: 0.7202 - accuracy: 0.8049 - val_loss: 0.7063 - val_accuracy: 0.8242\n",
      "Epoch 34/100\n",
      "100/100 [==============================] - 1s 6ms/step - loss: 0.7038 - accuracy: 0.8100 - val_loss: 0.6800 - val_accuracy: 0.8323\n",
      "Epoch 35/100\n",
      "100/100 [==============================] - 1s 5ms/step - loss: 0.7061 - accuracy: 0.8084 - val_loss: 0.6885 - val_accuracy: 0.8249\n",
      "Epoch 36/100\n",
      "100/100 [==============================] - 1s 6ms/step - loss: 0.6918 - accuracy: 0.8124 - val_loss: 0.6744 - val_accuracy: 0.8294\n",
      "Epoch 37/100\n",
      "100/100 [==============================] - 1s 8ms/step - loss: 0.6831 - accuracy: 0.8145 - val_loss: 0.6625 - val_accuracy: 0.8310\n",
      "Epoch 38/100\n",
      "100/100 [==============================] - 1s 5ms/step - loss: 0.6745 - accuracy: 0.8168 - val_loss: 0.6667 - val_accuracy: 0.8308\n",
      "Epoch 39/100\n",
      "100/100 [==============================] - 1s 6ms/step - loss: 0.6683 - accuracy: 0.8180 - val_loss: 0.6543 - val_accuracy: 0.8132\n",
      "Epoch 40/100\n",
      "100/100 [==============================] - 1s 7ms/step - loss: 0.6612 - accuracy: 0.8198 - val_loss: 0.6225 - val_accuracy: 0.8423\n",
      "Epoch 41/100\n",
      "100/100 [==============================] - 1s 8ms/step - loss: 0.6460 - accuracy: 0.8227 - val_loss: 0.6714 - val_accuracy: 0.8072\n",
      "Epoch 42/100\n",
      "100/100 [==============================] - 1s 6ms/step - loss: 0.6404 - accuracy: 0.8230 - val_loss: 0.6516 - val_accuracy: 0.8022\n",
      "Epoch 43/100\n",
      "100/100 [==============================] - 1s 5ms/step - loss: 0.6227 - accuracy: 0.8278 - val_loss: 0.6217 - val_accuracy: 0.8411\n",
      "Epoch 44/100\n",
      "100/100 [==============================] - 1s 6ms/step - loss: 0.6228 - accuracy: 0.8295 - val_loss: 0.6016 - val_accuracy: 0.8409\n",
      "Epoch 45/100\n",
      "100/100 [==============================] - 1s 6ms/step - loss: 0.6075 - accuracy: 0.8336 - val_loss: 0.5790 - val_accuracy: 0.8520\n",
      "Epoch 46/100\n",
      "100/100 [==============================] - 1s 8ms/step - loss: 0.6047 - accuracy: 0.8366 - val_loss: 0.5714 - val_accuracy: 0.8508\n",
      "Epoch 47/100\n",
      "100/100 [==============================] - 1s 5ms/step - loss: 0.5876 - accuracy: 0.8448 - val_loss: 0.5882 - val_accuracy: 0.8363\n",
      "Epoch 48/100\n",
      "100/100 [==============================] - 1s 5ms/step - loss: 0.5787 - accuracy: 0.8455 - val_loss: 0.5905 - val_accuracy: 0.8387\n",
      "Epoch 49/100\n",
      "100/100 [==============================] - 1s 6ms/step - loss: 0.5702 - accuracy: 0.8480 - val_loss: 0.5542 - val_accuracy: 0.8573\n",
      "Epoch 50/100\n",
      "100/100 [==============================] - 1s 5ms/step - loss: 0.5582 - accuracy: 0.8495 - val_loss: 0.5418 - val_accuracy: 0.8554\n",
      "Epoch 51/100\n",
      "100/100 [==============================] - 1s 5ms/step - loss: 0.5563 - accuracy: 0.8497 - val_loss: 0.5629 - val_accuracy: 0.8470\n",
      "Epoch 52/100\n",
      "100/100 [==============================] - 1s 5ms/step - loss: 0.5460 - accuracy: 0.8525 - val_loss: 0.5334 - val_accuracy: 0.8584\n",
      "Epoch 53/100\n",
      "100/100 [==============================] - 1s 6ms/step - loss: 0.5460 - accuracy: 0.8496 - val_loss: 0.5126 - val_accuracy: 0.8641\n",
      "Epoch 54/100\n",
      "100/100 [==============================] - 1s 6ms/step - loss: 0.5421 - accuracy: 0.8507 - val_loss: 0.5128 - val_accuracy: 0.8658\n",
      "Epoch 55/100\n",
      "100/100 [==============================] - 1s 5ms/step - loss: 0.5285 - accuracy: 0.8537 - val_loss: 0.5207 - val_accuracy: 0.8624\n",
      "Epoch 56/100\n",
      "100/100 [==============================] - 1s 5ms/step - loss: 0.5239 - accuracy: 0.8568 - val_loss: 0.5007 - val_accuracy: 0.8669\n",
      "Epoch 57/100\n",
      "100/100 [==============================] - 1s 6ms/step - loss: 0.5207 - accuracy: 0.8546 - val_loss: 0.5173 - val_accuracy: 0.8704\n"
     ]
    },
    {
     "name": "stdout",
     "output_type": "stream",
     "text": [
      "Epoch 58/100\n",
      "100/100 [==============================] - 1s 5ms/step - loss: 0.5152 - accuracy: 0.8552 - val_loss: 0.5164 - val_accuracy: 0.8583\n",
      "Epoch 59/100\n",
      "100/100 [==============================] - 1s 5ms/step - loss: 0.5193 - accuracy: 0.8546 - val_loss: 0.5045 - val_accuracy: 0.8666\n",
      "Epoch 60/100\n",
      "100/100 [==============================] - 1s 5ms/step - loss: 0.5119 - accuracy: 0.8559 - val_loss: 0.4883 - val_accuracy: 0.8677\n",
      "Epoch 61/100\n",
      "100/100 [==============================] - 1s 5ms/step - loss: 0.5039 - accuracy: 0.8570 - val_loss: 0.5021 - val_accuracy: 0.8552\n",
      "Epoch 62/100\n",
      "100/100 [==============================] - 1s 5ms/step - loss: 0.4963 - accuracy: 0.8591 - val_loss: 0.4719 - val_accuracy: 0.8686\n",
      "Epoch 63/100\n",
      "100/100 [==============================] - 1s 5ms/step - loss: 0.5060 - accuracy: 0.8551 - val_loss: 0.4938 - val_accuracy: 0.8656\n",
      "Epoch 64/100\n",
      "100/100 [==============================] - 1s 6ms/step - loss: 0.4954 - accuracy: 0.8575 - val_loss: 0.4776 - val_accuracy: 0.8740\n",
      "Epoch 65/100\n",
      "100/100 [==============================] - 1s 7ms/step - loss: 0.4878 - accuracy: 0.8606 - val_loss: 0.4779 - val_accuracy: 0.8630\n",
      "Epoch 66/100\n",
      "100/100 [==============================] - 1s 6ms/step - loss: 0.4898 - accuracy: 0.8597 - val_loss: 0.4727 - val_accuracy: 0.8662\n",
      "Epoch 67/100\n",
      "100/100 [==============================] - 1s 5ms/step - loss: 0.4836 - accuracy: 0.8584 - val_loss: 0.4653 - val_accuracy: 0.8647\n",
      "Epoch 68/100\n",
      "100/100 [==============================] - 1s 5ms/step - loss: 0.4899 - accuracy: 0.8577 - val_loss: 0.4600 - val_accuracy: 0.8728\n",
      "Epoch 69/100\n",
      "100/100 [==============================] - 1s 5ms/step - loss: 0.4802 - accuracy: 0.8614 - val_loss: 0.4637 - val_accuracy: 0.8673\n",
      "Epoch 70/100\n",
      "100/100 [==============================] - 1s 5ms/step - loss: 0.4729 - accuracy: 0.8609 - val_loss: 0.4685 - val_accuracy: 0.8692\n",
      "Epoch 71/100\n",
      "100/100 [==============================] - 1s 5ms/step - loss: 0.4695 - accuracy: 0.8627 - val_loss: 0.4708 - val_accuracy: 0.8646\n",
      "Epoch 72/100\n",
      "100/100 [==============================] - 1s 5ms/step - loss: 0.4628 - accuracy: 0.8645 - val_loss: 0.4787 - val_accuracy: 0.8674\n",
      "Epoch 73/100\n",
      "100/100 [==============================] - 1s 5ms/step - loss: 0.4694 - accuracy: 0.8612 - val_loss: 0.4536 - val_accuracy: 0.8688\n",
      "Epoch 74/100\n",
      "100/100 [==============================] - 1s 5ms/step - loss: 0.4743 - accuracy: 0.8601 - val_loss: 0.4754 - val_accuracy: 0.8657\n",
      "Epoch 75/100\n",
      "100/100 [==============================] - 1s 5ms/step - loss: 0.4632 - accuracy: 0.8631 - val_loss: 0.4525 - val_accuracy: 0.8656\n",
      "Epoch 76/100\n",
      "100/100 [==============================] - 1s 5ms/step - loss: 0.4625 - accuracy: 0.8633 - val_loss: 0.4491 - val_accuracy: 0.8669\n",
      "Epoch 77/100\n",
      "100/100 [==============================] - 1s 5ms/step - loss: 0.4648 - accuracy: 0.8631 - val_loss: 0.4616 - val_accuracy: 0.8648\n",
      "Epoch 78/100\n",
      "100/100 [==============================] - 1s 5ms/step - loss: 0.4640 - accuracy: 0.8617 - val_loss: 0.5007 - val_accuracy: 0.8512\n",
      "Epoch 79/100\n",
      "100/100 [==============================] - 1s 5ms/step - loss: 0.4672 - accuracy: 0.8620 - val_loss: 0.4563 - val_accuracy: 0.8711\n",
      "Epoch 80/100\n",
      "100/100 [==============================] - 1s 5ms/step - loss: 0.4575 - accuracy: 0.8662 - val_loss: 0.4498 - val_accuracy: 0.8682\n",
      "Epoch 81/100\n",
      "100/100 [==============================] - 1s 5ms/step - loss: 0.4522 - accuracy: 0.8656 - val_loss: 0.4613 - val_accuracy: 0.8728\n",
      "Epoch 82/100\n",
      "100/100 [==============================] - 1s 5ms/step - loss: 0.4529 - accuracy: 0.8656 - val_loss: 0.4494 - val_accuracy: 0.8734\n",
      "Epoch 83/100\n",
      "100/100 [==============================] - 1s 5ms/step - loss: 0.4461 - accuracy: 0.8674 - val_loss: 0.4490 - val_accuracy: 0.8682\n",
      "Epoch 84/100\n",
      "100/100 [==============================] - 1s 5ms/step - loss: 0.4495 - accuracy: 0.8655 - val_loss: 0.4485 - val_accuracy: 0.8746\n",
      "Epoch 85/100\n",
      "100/100 [==============================] - 1s 6ms/step - loss: 0.4521 - accuracy: 0.8646 - val_loss: 0.4602 - val_accuracy: 0.8707\n",
      "Epoch 86/100\n",
      "100/100 [==============================] - 1s 7ms/step - loss: 0.4659 - accuracy: 0.8603 - val_loss: 0.4489 - val_accuracy: 0.8744\n",
      "Epoch 87/100\n",
      "100/100 [==============================] - 1s 5ms/step - loss: 0.4597 - accuracy: 0.8628 - val_loss: 0.4433 - val_accuracy: 0.8728\n",
      "Epoch 88/100\n",
      "100/100 [==============================] - 1s 5ms/step - loss: 0.4554 - accuracy: 0.8621 - val_loss: 0.4562 - val_accuracy: 0.8691\n",
      "Epoch 89/100\n",
      "100/100 [==============================] - 1s 5ms/step - loss: 0.4518 - accuracy: 0.8636 - val_loss: 0.4638 - val_accuracy: 0.8718\n",
      "Epoch 90/100\n",
      "100/100 [==============================] - 1s 5ms/step - loss: 0.4525 - accuracy: 0.8651 - val_loss: 0.4559 - val_accuracy: 0.8616\n",
      "Epoch 91/100\n",
      "100/100 [==============================] - 1s 5ms/step - loss: 0.4495 - accuracy: 0.8642 - val_loss: 0.4378 - val_accuracy: 0.8724\n",
      "Epoch 92/100\n",
      "100/100 [==============================] - 1s 5ms/step - loss: 0.4523 - accuracy: 0.8636 - val_loss: 0.4426 - val_accuracy: 0.8744\n",
      "Epoch 93/100\n",
      "100/100 [==============================] - 1s 5ms/step - loss: 0.4416 - accuracy: 0.8658 - val_loss: 0.4398 - val_accuracy: 0.8727\n",
      "Epoch 94/100\n",
      "100/100 [==============================] - 1s 5ms/step - loss: 0.4417 - accuracy: 0.8675 - val_loss: 0.4458 - val_accuracy: 0.8659\n",
      "Epoch 95/100\n",
      "100/100 [==============================] - 1s 5ms/step - loss: 0.4413 - accuracy: 0.8659 - val_loss: 0.4434 - val_accuracy: 0.8709\n",
      "Epoch 96/100\n",
      "100/100 [==============================] - 1s 5ms/step - loss: 0.4375 - accuracy: 0.8718 - val_loss: 0.4528 - val_accuracy: 0.8642\n",
      "Epoch 97/100\n",
      "100/100 [==============================] - 1s 7ms/step - loss: 0.4367 - accuracy: 0.8700 - val_loss: 0.4629 - val_accuracy: 0.8629\n",
      "Epoch 98/100\n",
      "100/100 [==============================] - 1s 8ms/step - loss: 0.4401 - accuracy: 0.8682 - val_loss: 0.4342 - val_accuracy: 0.8754\n",
      "Epoch 99/100\n",
      "100/100 [==============================] - 1s 6ms/step - loss: 0.4381 - accuracy: 0.8677 - val_loss: 0.4645 - val_accuracy: 0.8584\n",
      "Epoch 100/100\n",
      "100/100 [==============================] - 1s 5ms/step - loss: 0.4431 - accuracy: 0.8661 - val_loss: 0.4481 - val_accuracy: 0.8666\n"
     ]
    }
   ],
   "source": [
    "history = train_baseline_model_with_regularization(baseline_model_with_regularization, train_data, train_labels_onehot, 0.15, epochs=100, batch_size=512, patience=30)"
   ]
  },
  {
   "cell_type": "code",
   "execution_count": 21,
   "metadata": {
    "id": "u4Z2xCZL7NeA",
    "outputId": "3bd736bf-6c97-4b48-b5c8-e0e18112246d"
   },
   "outputs": [
    {
     "data": {
      "text/plain": [
       "<matplotlib.axes._subplots.AxesSubplot at 0x7faf6c7cffd0>"
      ]
     },
     "execution_count": 21,
     "metadata": {},
     "output_type": "execute_result"
    },
    {
     "data": {
      "image/png": "[encoded data removed]",
      "text/plain": [
       "<Figure size 432x288 with 1 Axes>"
      ]
     },
     "metadata": {
      "needs_background": "light"
     },
     "output_type": "display_data"
    },
    {
     "data": {
      "image/png": "[encoded data removed]",
      "text/plain": [
       "<Figure size 432x288 with 1 Axes>"
      ]
     },
     "metadata": {
      "needs_background": "light"
     },
     "output_type": "display_data"
    }
   ],
   "source": [
    "df = pd.DataFrame(history.history)\n",
    "df.plot(y=['loss', 'val_loss'])\n",
    "df.plot(y=['accuracy', 'val_accuracy'])"
   ]
  },
  {
   "cell_type": "markdown",
   "metadata": {
    "id": "rwkmivWv7NeC"
   },
   "source": [
    "Sau khi tinh chỉnh các tham số regularization, bao gồm drop_out và weight_decay, em nhận thấy giá trị tốt nhất của hai siêu tham số (hyperparameters) này là 0.3 cho drop_out và 3e-4 cho weight_decay. Với việc sử dụng regularization, model trở nên bị underfit khá nhiều, accuray trên tập train giảm từ 95% xuống còn gần 87.5%. Em cố gắng thử thêm một model mạnh mẽ hơn là mạng CNN để tăng khả năng học của model. Phần bên dưới là phần cài đặt model mới với CNN (Convolutional neural network)."
   ]
  },
  {
   "cell_type": "markdown",
   "metadata": {
    "id": "rexvc5bk7NeC"
   },
   "source": [
    "# CNN MODEL"
   ]
  },
  {
   "cell_type": "code",
   "execution_count": 22,
   "metadata": {
    "id": "gCDoFU007NeD"
   },
   "outputs": [],
   "source": [
    "from tensorflow.keras.layers import Conv2D, MaxPool2D, BatchNormalization, Flatten, Reshape\n",
    "from tensorflow.keras.layers.experimental.preprocessing import RandomFlip, RandomContrast, Normalization"
   ]
  },
  {
   "cell_type": "markdown",
   "metadata": {
    "id": "_3pIskHb7NeF"
   },
   "source": [
    "### CREATE MODEL"
   ]
  },
  {
   "cell_type": "code",
   "execution_count": 23,
   "metadata": {
    "id": "3uxQFXNq7NeG"
   },
   "outputs": [],
   "source": [
    "def get_cnn_model(input_shape, dropout_rate, weight_decay):\n",
    "    model = Sequential([\n",
    "        Reshape(input_shape=input_shape, target_shape=(n, n, 1)),\n",
    "        RandomFlip(mode=\"vertical\"),\n",
    "        RandomContrast(factor=0.2),\n",
    "        Normalization(),\n",
    "        Conv2D(filters=32, kernel_size=3, padding='same', activation='relu'),\n",
    "        Dropout(rate=dropout_rate),\n",
    "        BatchNormalization(),\n",
    "        Conv2D(filters=64, kernel_size=3, padding='same', activation='relu'),\n",
    "        Dropout(rate=dropout_rate),\n",
    "        BatchNormalization(),\n",
    "        MaxPool2D(pool_size=(2, 2), data_format=\"channels_last\"),\n",
    "        Flatten(),\n",
    "        Dense(units=3136, activation='relu', kernel_regularizer=regularizers.l2(l=weight_decay)),\n",
    "        Dropout(rate=dropout_rate),\n",
    "        BatchNormalization(),\n",
    "        Dense(units=64, activation='relu', kernel_regularizer=regularizers.l2(l=weight_decay)),\n",
    "        Dropout(rate=dropout_rate),\n",
    "        BatchNormalization(),\n",
    "        Dense(units=10, activation='softmax')\n",
    "    ])\n",
    "    \n",
    "    model.compile(optimizer='adam',\n",
    "                 loss='categorical_crossentropy',\n",
    "                 metrics=['accuracy'])\n",
    "    return model"
   ]
  },
  {
   "cell_type": "code",
   "execution_count": 24,
   "metadata": {
    "id": "iZj0zvUn7NeH",
    "outputId": "a62bd856-30ca-4dc2-a8a9-e463b58cd773"
   },
   "outputs": [
    {
     "name": "stdout",
     "output_type": "stream",
     "text": [
      "Model: \"sequential_2\"\n",
      "_________________________________________________________________\n",
      "Layer (type)                 Output Shape              Param #   \n",
      "=================================================================\n",
      "reshape (Reshape)            (None, 28, 28, 1)         0         \n",
      "_________________________________________________________________\n",
      "random_flip (RandomFlip)     (None, 28, 28, 1)         0         \n",
      "_________________________________________________________________\n",
      "random_contrast (RandomContr (None, 28, 28, 1)         0         \n",
      "_________________________________________________________________\n",
      "normalization (Normalization (None, 28, 28, 1)         3         \n",
      "_________________________________________________________________\n",
      "conv2d (Conv2D)              (None, 28, 28, 32)        320       \n",
      "_________________________________________________________________\n",
      "dropout_5 (Dropout)          (None, 28, 28, 32)        0         \n",
      "_________________________________________________________________\n",
      "batch_normalization (BatchNo (None, 28, 28, 32)        128       \n",
      "_________________________________________________________________\n",
      "conv2d_1 (Conv2D)            (None, 28, 28, 64)        18496     \n",
      "_________________________________________________________________\n",
      "dropout_6 (Dropout)          (None, 28, 28, 64)        0         \n",
      "_________________________________________________________________\n",
      "batch_normalization_1 (Batch (None, 28, 28, 64)        256       \n",
      "_________________________________________________________________\n",
      "max_pooling2d (MaxPooling2D) (None, 14, 14, 64)        0         \n",
      "_________________________________________________________________\n",
      "flatten (Flatten)            (None, 12544)             0         \n",
      "_________________________________________________________________\n",
      "dense_12 (Dense)             (None, 3136)              39341120  \n",
      "_________________________________________________________________\n",
      "dropout_7 (Dropout)          (None, 3136)              0         \n",
      "_________________________________________________________________\n",
      "batch_normalization_2 (Batch (None, 3136)              12544     \n",
      "_________________________________________________________________\n",
      "dense_13 (Dense)             (None, 64)                200768    \n",
      "_________________________________________________________________\n",
      "dropout_8 (Dropout)          (None, 64)                0         \n",
      "_________________________________________________________________\n",
      "batch_normalization_3 (Batch (None, 64)                256       \n",
      "_________________________________________________________________\n",
      "dense_14 (Dense)             (None, 10)                650       \n",
      "=================================================================\n",
      "Total params: 39,574,541\n",
      "Trainable params: 39,567,946\n",
      "Non-trainable params: 6,595\n",
      "_________________________________________________________________\n"
     ]
    }
   ],
   "source": [
    "cnn_model = get_cnn_model(train_data.iloc[0].shape, 0.3, 3e-4)\n",
    "cnn_model.summary()"
   ]
  },
  {
   "cell_type": "markdown",
   "metadata": {
    "id": "BW-UWU5b7NeK"
   },
   "source": [
    "### TRAIN MODEL"
   ]
  },
  {
   "cell_type": "code",
   "execution_count": 25,
   "metadata": {
    "id": "xB7q39dTqAtS"
   },
   "outputs": [],
   "source": [
    "from tensorflow.keras.callbacks import ReduceLROnPlateau"
   ]
  },
  {
   "cell_type": "code",
   "execution_count": 26,
   "metadata": {
    "id": "7SCc_eTn7NeK"
   },
   "outputs": [],
   "source": [
    "def train_cnn_model(model, train_data, train_labels, split_validation, epochs=100, batch_size=128, patience=30):\n",
    "    history = model.fit(train_data, train_labels,\n",
    "                       epochs=epochs, batch_size=batch_size,\n",
    "                       verbose=1,\n",
    "                       validation_split=split_validation,\n",
    "                       callbacks=[ReduceLROnPlateau(monitor='val_acc', patience=3, verbose=0, factor=0.5, min_lr=0.00001),\n",
    "                                  EarlyStopping(patience=patience, monitor='val_accuracy'),\n",
    "                                  ModelCheckpoint('./cnn_model_checkpoint/checkpoint', monitor='val_accuracy', save_weights_only=True, save_best_only=True, frequency='epoch')])\n",
    "    return history"
   ]
  },
  {
   "cell_type": "code",
   "execution_count": 28,
   "metadata": {
    "id": "yC8j55NS7NeN",
    "outputId": "97ac0ec8-0ddd-4c64-b5cc-1d0c7541cf71"
   },
   "outputs": [
    {
     "name": "stdout",
     "output_type": "stream",
     "text": [
      "Epoch 1/1000\n",
      "399/399 [==============================] - 10s 26ms/step - loss: 1.5940 - accuracy: 0.8121 - val_loss: 1.0588 - val_accuracy: 0.8400\n",
      "Epoch 2/1000\n",
      "399/399 [==============================] - 9s 22ms/step - loss: 1.0140 - accuracy: 0.8528 - val_loss: 1.0650 - val_accuracy: 0.8352\n",
      "Epoch 3/1000\n",
      "399/399 [==============================] - 10s 26ms/step - loss: 1.0492 - accuracy: 0.8636 - val_loss: 1.1291 - val_accuracy: 0.8570\n",
      "Epoch 4/1000\n",
      "399/399 [==============================] - 10s 25ms/step - loss: 1.0569 - accuracy: 0.8716 - val_loss: 0.9951 - val_accuracy: 0.8887\n",
      "Epoch 5/1000\n",
      "399/399 [==============================] - 10s 25ms/step - loss: 1.0350 - accuracy: 0.8764 - val_loss: 0.9722 - val_accuracy: 0.8942\n",
      "Epoch 6/1000\n",
      "399/399 [==============================] - 10s 25ms/step - loss: 1.0353 - accuracy: 0.8788 - val_loss: 0.9814 - val_accuracy: 0.8943\n",
      "Epoch 7/1000\n",
      "399/399 [==============================] - 9s 22ms/step - loss: 1.0363 - accuracy: 0.8788 - val_loss: 1.0224 - val_accuracy: 0.8791\n",
      "Epoch 8/1000\n",
      "399/399 [==============================] - 9s 22ms/step - loss: 1.0034 - accuracy: 0.8838 - val_loss: 0.9671 - val_accuracy: 0.8856\n",
      "Epoch 9/1000\n",
      "399/399 [==============================] - 9s 22ms/step - loss: 0.9928 - accuracy: 0.8841 - val_loss: 0.9679 - val_accuracy: 0.8840\n",
      "Epoch 10/1000\n",
      "399/399 [==============================] - 10s 25ms/step - loss: 0.9750 - accuracy: 0.8871 - val_loss: 0.9692 - val_accuracy: 0.8980\n",
      "Epoch 11/1000\n",
      "399/399 [==============================] - 9s 22ms/step - loss: 0.9867 - accuracy: 0.8880 - val_loss: 0.9673 - val_accuracy: 0.8943\n",
      "Epoch 12/1000\n",
      "399/399 [==============================] - 10s 25ms/step - loss: 0.9602 - accuracy: 0.8894 - val_loss: 0.8993 - val_accuracy: 0.9013\n",
      "Epoch 13/1000\n",
      "399/399 [==============================] - 9s 22ms/step - loss: 0.9314 - accuracy: 0.8905 - val_loss: 0.9283 - val_accuracy: 0.8824\n",
      "Epoch 14/1000\n",
      "399/399 [==============================] - 10s 26ms/step - loss: 0.8905 - accuracy: 0.8914 - val_loss: 0.8413 - val_accuracy: 0.9090\n",
      "Epoch 15/1000\n",
      "399/399 [==============================] - 9s 22ms/step - loss: 0.8944 - accuracy: 0.8918 - val_loss: 0.8521 - val_accuracy: 0.9040\n",
      "Epoch 16/1000\n",
      "399/399 [==============================] - 9s 22ms/step - loss: 0.8802 - accuracy: 0.8961 - val_loss: 0.8662 - val_accuracy: 0.9026\n",
      "Epoch 17/1000\n",
      "399/399 [==============================] - 9s 22ms/step - loss: 0.8520 - accuracy: 0.8975 - val_loss: 0.8259 - val_accuracy: 0.9020\n",
      "Epoch 18/1000\n",
      "399/399 [==============================] - 9s 22ms/step - loss: 0.8276 - accuracy: 0.8994 - val_loss: 0.7996 - val_accuracy: 0.8998\n",
      "Epoch 19/1000\n",
      "399/399 [==============================] - 9s 22ms/step - loss: 0.8298 - accuracy: 0.8981 - val_loss: 0.7999 - val_accuracy: 0.9000\n",
      "Epoch 20/1000\n",
      "399/399 [==============================] - 9s 22ms/step - loss: 0.7969 - accuracy: 0.9008 - val_loss: 0.7666 - val_accuracy: 0.9076\n",
      "Epoch 21/1000\n",
      "399/399 [==============================] - 10s 26ms/step - loss: 0.7787 - accuracy: 0.9034 - val_loss: 0.7411 - val_accuracy: 0.9092\n",
      "Epoch 22/1000\n",
      "399/399 [==============================] - 9s 22ms/step - loss: 0.7730 - accuracy: 0.9024 - val_loss: 0.7728 - val_accuracy: 0.8969\n",
      "Epoch 23/1000\n",
      "399/399 [==============================] - 10s 25ms/step - loss: 0.7613 - accuracy: 0.9011 - val_loss: 0.7156 - val_accuracy: 0.9178\n",
      "Epoch 24/1000\n",
      "399/399 [==============================] - 9s 23ms/step - loss: 0.7406 - accuracy: 0.9055 - val_loss: 0.7039 - val_accuracy: 0.9141\n",
      "Epoch 25/1000\n",
      "399/399 [==============================] - 9s 22ms/step - loss: 0.7160 - accuracy: 0.9045 - val_loss: 0.6865 - val_accuracy: 0.9130\n",
      "Epoch 26/1000\n",
      "399/399 [==============================] - 9s 22ms/step - loss: 0.6945 - accuracy: 0.9055 - val_loss: 0.6834 - val_accuracy: 0.9046\n",
      "Epoch 27/1000\n",
      "399/399 [==============================] - 10s 26ms/step - loss: 0.6905 - accuracy: 0.9054 - val_loss: 0.6684 - val_accuracy: 0.9184\n",
      "Epoch 28/1000\n",
      "399/399 [==============================] - 9s 23ms/step - loss: 0.6833 - accuracy: 0.9070 - val_loss: 0.6480 - val_accuracy: 0.9144\n",
      "Epoch 29/1000\n",
      "399/399 [==============================] - 9s 22ms/step - loss: 0.6647 - accuracy: 0.9081 - val_loss: 0.6531 - val_accuracy: 0.9047\n",
      "Epoch 30/1000\n",
      "399/399 [==============================] - 9s 22ms/step - loss: 0.6477 - accuracy: 0.9093 - val_loss: 0.6123 - val_accuracy: 0.9179\n",
      "Epoch 31/1000\n",
      "399/399 [==============================] - 9s 22ms/step - loss: 0.6312 - accuracy: 0.9077 - val_loss: 0.6065 - val_accuracy: 0.9127\n",
      "Epoch 32/1000\n",
      "399/399 [==============================] - 9s 22ms/step - loss: 0.6260 - accuracy: 0.9106 - val_loss: 0.6148 - val_accuracy: 0.9160\n",
      "Epoch 33/1000\n",
      "399/399 [==============================] - 9s 21ms/step - loss: 0.6192 - accuracy: 0.9103 - val_loss: 0.6009 - val_accuracy: 0.9136\n",
      "Epoch 34/1000\n",
      "399/399 [==============================] - 9s 22ms/step - loss: 0.6018 - accuracy: 0.9118 - val_loss: 0.5782 - val_accuracy: 0.9170\n",
      "Epoch 35/1000\n",
      "399/399 [==============================] - 9s 23ms/step - loss: 0.5961 - accuracy: 0.9140 - val_loss: 0.5918 - val_accuracy: 0.9132\n",
      "Epoch 36/1000\n",
      "399/399 [==============================] - 10s 25ms/step - loss: 0.5926 - accuracy: 0.9138 - val_loss: 0.5805 - val_accuracy: 0.9192\n",
      "Epoch 37/1000\n",
      "399/399 [==============================] - 9s 22ms/step - loss: 0.5880 - accuracy: 0.9130 - val_loss: 0.5827 - val_accuracy: 0.9182\n",
      "Epoch 38/1000\n",
      "399/399 [==============================] - 9s 22ms/step - loss: 0.5839 - accuracy: 0.9126 - val_loss: 0.5802 - val_accuracy: 0.9157\n",
      "Epoch 39/1000\n",
      "399/399 [==============================] - 9s 22ms/step - loss: 0.5803 - accuracy: 0.9143 - val_loss: 0.5739 - val_accuracy: 0.9157\n",
      "Epoch 40/1000\n",
      "399/399 [==============================] - 9s 22ms/step - loss: 0.5824 - accuracy: 0.9146 - val_loss: 0.5658 - val_accuracy: 0.9172\n",
      "Epoch 41/1000\n",
      "399/399 [==============================] - 10s 26ms/step - loss: 0.5814 - accuracy: 0.9149 - val_loss: 0.5722 - val_accuracy: 0.9206\n",
      "Epoch 42/1000\n",
      "399/399 [==============================] - 9s 23ms/step - loss: 0.5669 - accuracy: 0.9166 - val_loss: 0.5661 - val_accuracy: 0.9108\n",
      "Epoch 43/1000\n",
      "399/399 [==============================] - 10s 24ms/step - loss: 0.5624 - accuracy: 0.9158 - val_loss: 0.5385 - val_accuracy: 0.9247\n",
      "Epoch 44/1000\n",
      "399/399 [==============================] - 9s 22ms/step - loss: 0.5573 - accuracy: 0.9148 - val_loss: 0.5393 - val_accuracy: 0.9236\n",
      "Epoch 45/1000\n",
      "399/399 [==============================] - 9s 22ms/step - loss: 0.5552 - accuracy: 0.9145 - val_loss: 0.5581 - val_accuracy: 0.9202\n",
      "Epoch 46/1000\n",
      "399/399 [==============================] - 10s 24ms/step - loss: 0.5630 - accuracy: 0.9169 - val_loss: 0.5378 - val_accuracy: 0.9248\n",
      "Epoch 47/1000\n",
      "399/399 [==============================] - 9s 22ms/step - loss: 0.5502 - accuracy: 0.9185 - val_loss: 0.5421 - val_accuracy: 0.9201\n",
      "Epoch 48/1000\n",
      "399/399 [==============================] - 9s 23ms/step - loss: 0.5510 - accuracy: 0.9172 - val_loss: 0.5531 - val_accuracy: 0.9161\n",
      "Epoch 49/1000\n",
      "399/399 [==============================] - 9s 22ms/step - loss: 0.5515 - accuracy: 0.9172 - val_loss: 0.5657 - val_accuracy: 0.9139\n",
      "Epoch 50/1000\n",
      "399/399 [==============================] - 9s 22ms/step - loss: 0.5475 - accuracy: 0.9180 - val_loss: 0.5409 - val_accuracy: 0.9169\n",
      "Epoch 51/1000\n",
      "399/399 [==============================] - 9s 22ms/step - loss: 0.5322 - accuracy: 0.9189 - val_loss: 0.5344 - val_accuracy: 0.9181\n",
      "Epoch 52/1000\n",
      "399/399 [==============================] - 9s 22ms/step - loss: 0.5393 - accuracy: 0.9174 - val_loss: 0.5333 - val_accuracy: 0.9216\n",
      "Epoch 53/1000\n",
      "399/399 [==============================] - 9s 22ms/step - loss: 0.5322 - accuracy: 0.9180 - val_loss: 0.5349 - val_accuracy: 0.9190\n",
      "Epoch 54/1000\n",
      "399/399 [==============================] - 9s 22ms/step - loss: 0.5314 - accuracy: 0.9194 - val_loss: 0.5177 - val_accuracy: 0.9237\n",
      "Epoch 55/1000\n",
      "399/399 [==============================] - 9s 22ms/step - loss: 0.5285 - accuracy: 0.9176 - val_loss: 0.5248 - val_accuracy: 0.9246\n",
      "Epoch 56/1000\n",
      "399/399 [==============================] - 10s 25ms/step - loss: 0.5329 - accuracy: 0.9182 - val_loss: 0.5138 - val_accuracy: 0.9253\n",
      "Epoch 57/1000\n"
     ]
    },
    {
     "name": "stdout",
     "output_type": "stream",
     "text": [
      "399/399 [==============================] - 9s 22ms/step - loss: 0.5267 - accuracy: 0.9196 - val_loss: 0.5126 - val_accuracy: 0.9237\n",
      "Epoch 58/1000\n",
      "399/399 [==============================] - 9s 21ms/step - loss: 0.5265 - accuracy: 0.9187 - val_loss: 0.5257 - val_accuracy: 0.9193\n",
      "Epoch 59/1000\n",
      "399/399 [==============================] - 9s 22ms/step - loss: 0.5226 - accuracy: 0.9196 - val_loss: 0.5227 - val_accuracy: 0.9213\n",
      "Epoch 60/1000\n",
      "399/399 [==============================] - 10s 25ms/step - loss: 0.5240 - accuracy: 0.9204 - val_loss: 0.5096 - val_accuracy: 0.9254\n",
      "Epoch 61/1000\n",
      "399/399 [==============================] - 9s 22ms/step - loss: 0.5172 - accuracy: 0.9196 - val_loss: 0.5120 - val_accuracy: 0.9253\n",
      "Epoch 62/1000\n",
      "399/399 [==============================] - 9s 22ms/step - loss: 0.5156 - accuracy: 0.9208 - val_loss: 0.5079 - val_accuracy: 0.9244\n",
      "Epoch 63/1000\n",
      "399/399 [==============================] - 9s 22ms/step - loss: 0.5192 - accuracy: 0.9215 - val_loss: 0.5155 - val_accuracy: 0.9198\n",
      "Epoch 64/1000\n",
      "399/399 [==============================] - 9s 22ms/step - loss: 0.5184 - accuracy: 0.9203 - val_loss: 0.5195 - val_accuracy: 0.9199\n",
      "Epoch 65/1000\n",
      "399/399 [==============================] - 9s 22ms/step - loss: 0.5098 - accuracy: 0.9223 - val_loss: 0.5226 - val_accuracy: 0.9192\n",
      "Epoch 66/1000\n",
      "399/399 [==============================] - 9s 21ms/step - loss: 0.5150 - accuracy: 0.9219 - val_loss: 0.5204 - val_accuracy: 0.9216\n",
      "Epoch 67/1000\n",
      "399/399 [==============================] - 9s 22ms/step - loss: 0.5307 - accuracy: 0.9186 - val_loss: 0.5366 - val_accuracy: 0.9164\n",
      "Epoch 68/1000\n",
      "399/399 [==============================] - 9s 23ms/step - loss: 0.5107 - accuracy: 0.9228 - val_loss: 0.5134 - val_accuracy: 0.9194\n",
      "Epoch 69/1000\n",
      "399/399 [==============================] - 10s 25ms/step - loss: 0.5089 - accuracy: 0.9226 - val_loss: 0.5029 - val_accuracy: 0.9260\n",
      "Epoch 70/1000\n",
      "399/399 [==============================] - 9s 22ms/step - loss: 0.5118 - accuracy: 0.9208 - val_loss: 0.5106 - val_accuracy: 0.9213\n",
      "Epoch 71/1000\n",
      "399/399 [==============================] - 9s 21ms/step - loss: 0.5019 - accuracy: 0.9216 - val_loss: 0.5155 - val_accuracy: 0.9223\n",
      "Epoch 72/1000\n",
      "399/399 [==============================] - 9s 22ms/step - loss: 0.5046 - accuracy: 0.9224 - val_loss: 0.5018 - val_accuracy: 0.9232\n",
      "Epoch 73/1000\n",
      "399/399 [==============================] - 9s 22ms/step - loss: 0.5110 - accuracy: 0.9203 - val_loss: 0.5282 - val_accuracy: 0.9093\n",
      "Epoch 74/1000\n",
      "399/399 [==============================] - 9s 22ms/step - loss: 0.5104 - accuracy: 0.9217 - val_loss: 0.5156 - val_accuracy: 0.9204\n",
      "Epoch 75/1000\n",
      "399/399 [==============================] - 10s 26ms/step - loss: 0.5079 - accuracy: 0.9228 - val_loss: 0.4987 - val_accuracy: 0.9264\n",
      "Epoch 76/1000\n",
      "399/399 [==============================] - 9s 22ms/step - loss: 0.5034 - accuracy: 0.9235 - val_loss: 0.5278 - val_accuracy: 0.9141\n",
      "Epoch 77/1000\n",
      "399/399 [==============================] - 9s 21ms/step - loss: 0.5145 - accuracy: 0.9225 - val_loss: 0.5057 - val_accuracy: 0.9237\n",
      "Epoch 78/1000\n",
      "399/399 [==============================] - 9s 22ms/step - loss: 0.5076 - accuracy: 0.9228 - val_loss: 0.5166 - val_accuracy: 0.9213\n",
      "Epoch 79/1000\n",
      "399/399 [==============================] - 9s 22ms/step - loss: 0.5005 - accuracy: 0.9232 - val_loss: 0.5215 - val_accuracy: 0.9181\n",
      "Epoch 80/1000\n",
      "399/399 [==============================] - 9s 22ms/step - loss: 0.5068 - accuracy: 0.9223 - val_loss: 0.5281 - val_accuracy: 0.9181\n",
      "Epoch 81/1000\n",
      "399/399 [==============================] - 9s 23ms/step - loss: 0.5016 - accuracy: 0.9245 - val_loss: 0.5070 - val_accuracy: 0.9223\n",
      "Epoch 82/1000\n",
      "399/399 [==============================] - 10s 25ms/step - loss: 0.5024 - accuracy: 0.9229 - val_loss: 0.4996 - val_accuracy: 0.9266\n",
      "Epoch 83/1000\n",
      "399/399 [==============================] - 9s 22ms/step - loss: 0.4965 - accuracy: 0.9236 - val_loss: 0.4986 - val_accuracy: 0.9211\n",
      "Epoch 84/1000\n",
      "399/399 [==============================] - 9s 22ms/step - loss: 0.4886 - accuracy: 0.9254 - val_loss: 0.4966 - val_accuracy: 0.9248\n",
      "Epoch 85/1000\n",
      "399/399 [==============================] - 9s 22ms/step - loss: 0.5009 - accuracy: 0.9221 - val_loss: 0.5099 - val_accuracy: 0.9192\n",
      "Epoch 86/1000\n",
      "399/399 [==============================] - 10s 24ms/step - loss: 0.4947 - accuracy: 0.9232 - val_loss: 0.4891 - val_accuracy: 0.9270\n",
      "Epoch 87/1000\n",
      "399/399 [==============================] - 9s 22ms/step - loss: 0.4980 - accuracy: 0.9250 - val_loss: 0.5149 - val_accuracy: 0.9181\n",
      "Epoch 88/1000\n",
      "399/399 [==============================] - 9s 23ms/step - loss: 0.4995 - accuracy: 0.9237 - val_loss: 0.5169 - val_accuracy: 0.9191\n",
      "Epoch 89/1000\n",
      "399/399 [==============================] - 10s 25ms/step - loss: 0.4962 - accuracy: 0.9239 - val_loss: 0.4872 - val_accuracy: 0.9272\n",
      "Epoch 90/1000\n",
      "399/399 [==============================] - 9s 22ms/step - loss: 0.4898 - accuracy: 0.9252 - val_loss: 0.5075 - val_accuracy: 0.9209\n",
      "Epoch 91/1000\n",
      "399/399 [==============================] - 9s 22ms/step - loss: 0.4908 - accuracy: 0.9249 - val_loss: 0.4986 - val_accuracy: 0.9176\n",
      "Epoch 92/1000\n",
      "399/399 [==============================] - 9s 22ms/step - loss: 0.4853 - accuracy: 0.9261 - val_loss: 0.4819 - val_accuracy: 0.9256\n",
      "Epoch 93/1000\n",
      "399/399 [==============================] - 9s 21ms/step - loss: 0.4900 - accuracy: 0.9253 - val_loss: 0.4975 - val_accuracy: 0.9218\n",
      "Epoch 94/1000\n",
      "399/399 [==============================] - 9s 22ms/step - loss: 0.4948 - accuracy: 0.9250 - val_loss: 0.5036 - val_accuracy: 0.9211\n",
      "Epoch 95/1000\n",
      "399/399 [==============================] - 9s 23ms/step - loss: 0.4901 - accuracy: 0.9248 - val_loss: 0.4986 - val_accuracy: 0.9241\n",
      "Epoch 96/1000\n",
      "399/399 [==============================] - 9s 22ms/step - loss: 0.4925 - accuracy: 0.9252 - val_loss: 0.5041 - val_accuracy: 0.9239\n",
      "Epoch 97/1000\n",
      "399/399 [==============================] - 9s 21ms/step - loss: 0.4937 - accuracy: 0.9246 - val_loss: 0.4913 - val_accuracy: 0.9234\n",
      "Epoch 98/1000\n",
      "399/399 [==============================] - 8s 21ms/step - loss: 0.4880 - accuracy: 0.9250 - val_loss: 0.4865 - val_accuracy: 0.9219\n",
      "Epoch 99/1000\n",
      "399/399 [==============================] - 9s 22ms/step - loss: 0.4836 - accuracy: 0.9256 - val_loss: 0.4791 - val_accuracy: 0.9261\n",
      "Epoch 100/1000\n",
      "399/399 [==============================] - 9s 22ms/step - loss: 0.4835 - accuracy: 0.9264 - val_loss: 0.4900 - val_accuracy: 0.9242\n",
      "Epoch 101/1000\n",
      "399/399 [==============================] - 9s 21ms/step - loss: 0.4840 - accuracy: 0.9257 - val_loss: 0.4841 - val_accuracy: 0.9269\n",
      "Epoch 102/1000\n",
      "399/399 [==============================] - 10s 26ms/step - loss: 0.4898 - accuracy: 0.9246 - val_loss: 0.4843 - val_accuracy: 0.9287\n",
      "Epoch 103/1000\n",
      "399/399 [==============================] - 9s 22ms/step - loss: 0.4910 - accuracy: 0.9254 - val_loss: 0.5028 - val_accuracy: 0.9179\n",
      "Epoch 104/1000\n",
      "399/399 [==============================] - 9s 22ms/step - loss: 0.4811 - accuracy: 0.9258 - val_loss: 0.4813 - val_accuracy: 0.9262\n",
      "Epoch 105/1000\n",
      "399/399 [==============================] - 9s 22ms/step - loss: 0.4793 - accuracy: 0.9276 - val_loss: 0.4887 - val_accuracy: 0.9203\n",
      "Epoch 106/1000\n",
      "399/399 [==============================] - 9s 22ms/step - loss: 0.4761 - accuracy: 0.9281 - val_loss: 0.4846 - val_accuracy: 0.9229\n",
      "Epoch 107/1000\n",
      "399/399 [==============================] - 9s 22ms/step - loss: 0.4861 - accuracy: 0.9249 - val_loss: 0.4863 - val_accuracy: 0.9221\n",
      "Epoch 108/1000\n",
      "399/399 [==============================] - 9s 22ms/step - loss: 0.4735 - accuracy: 0.9285 - val_loss: 0.4867 - val_accuracy: 0.9229\n",
      "Epoch 109/1000\n",
      "399/399 [==============================] - 9s 22ms/step - loss: 0.4815 - accuracy: 0.9263 - val_loss: 0.5092 - val_accuracy: 0.9137\n",
      "Epoch 110/1000\n",
      "399/399 [==============================] - 9s 22ms/step - loss: 0.4866 - accuracy: 0.9253 - val_loss: 0.4982 - val_accuracy: 0.9214\n",
      "Epoch 111/1000\n",
      "399/399 [==============================] - 9s 22ms/step - loss: 0.4872 - accuracy: 0.9255 - val_loss: 0.4986 - val_accuracy: 0.9202\n",
      "Epoch 112/1000\n",
      "399/399 [==============================] - 9s 22ms/step - loss: 0.4801 - accuracy: 0.9271 - val_loss: 0.4757 - val_accuracy: 0.9266\n",
      "Epoch 113/1000\n"
     ]
    },
    {
     "name": "stdout",
     "output_type": "stream",
     "text": [
      "399/399 [==============================] - 8s 21ms/step - loss: 0.4825 - accuracy: 0.9252 - val_loss: 0.4824 - val_accuracy: 0.9252\n",
      "Epoch 114/1000\n",
      "399/399 [==============================] - 9s 22ms/step - loss: 0.4733 - accuracy: 0.9274 - val_loss: 0.4884 - val_accuracy: 0.9236\n",
      "Epoch 115/1000\n",
      "399/399 [==============================] - 9s 22ms/step - loss: 0.4826 - accuracy: 0.9270 - val_loss: 0.4853 - val_accuracy: 0.9266\n",
      "Epoch 116/1000\n",
      "399/399 [==============================] - 9s 22ms/step - loss: 0.4784 - accuracy: 0.9279 - val_loss: 0.4881 - val_accuracy: 0.9279\n",
      "Epoch 117/1000\n",
      "399/399 [==============================] - 10s 26ms/step - loss: 0.4776 - accuracy: 0.9262 - val_loss: 0.4659 - val_accuracy: 0.9323\n",
      "Epoch 118/1000\n",
      "399/399 [==============================] - 9s 21ms/step - loss: 0.4757 - accuracy: 0.9263 - val_loss: 0.4785 - val_accuracy: 0.9240\n",
      "Epoch 119/1000\n",
      "399/399 [==============================] - 9s 22ms/step - loss: 0.4769 - accuracy: 0.9260 - val_loss: 0.5086 - val_accuracy: 0.9164\n",
      "Epoch 120/1000\n",
      "399/399 [==============================] - 9s 22ms/step - loss: 0.4815 - accuracy: 0.9260 - val_loss: 0.4951 - val_accuracy: 0.9228\n",
      "Epoch 121/1000\n",
      "399/399 [==============================] - 9s 22ms/step - loss: 0.4816 - accuracy: 0.9256 - val_loss: 0.4737 - val_accuracy: 0.9270\n",
      "Epoch 122/1000\n",
      "399/399 [==============================] - 9s 22ms/step - loss: 0.4683 - accuracy: 0.9282 - val_loss: 0.4597 - val_accuracy: 0.9318\n",
      "Epoch 123/1000\n",
      "399/399 [==============================] - 9s 22ms/step - loss: 0.4683 - accuracy: 0.9266 - val_loss: 0.4636 - val_accuracy: 0.9277\n",
      "Epoch 124/1000\n",
      "399/399 [==============================] - 9s 22ms/step - loss: 0.4639 - accuracy: 0.9267 - val_loss: 0.4677 - val_accuracy: 0.9264\n",
      "Epoch 125/1000\n",
      "399/399 [==============================] - 9s 22ms/step - loss: 0.4786 - accuracy: 0.9255 - val_loss: 0.4827 - val_accuracy: 0.9244\n",
      "Epoch 126/1000\n",
      "399/399 [==============================] - 9s 21ms/step - loss: 0.4742 - accuracy: 0.9265 - val_loss: 0.4934 - val_accuracy: 0.9246\n",
      "Epoch 127/1000\n",
      "399/399 [==============================] - 9s 22ms/step - loss: 0.4703 - accuracy: 0.9270 - val_loss: 0.4835 - val_accuracy: 0.9234\n",
      "Epoch 128/1000\n",
      "399/399 [==============================] - 9s 22ms/step - loss: 0.4717 - accuracy: 0.9278 - val_loss: 0.4790 - val_accuracy: 0.9290\n",
      "Epoch 129/1000\n",
      "399/399 [==============================] - 9s 23ms/step - loss: 0.4740 - accuracy: 0.9269 - val_loss: 0.4930 - val_accuracy: 0.9227\n",
      "Epoch 130/1000\n",
      "399/399 [==============================] - 9s 22ms/step - loss: 0.4746 - accuracy: 0.9269 - val_loss: 0.4755 - val_accuracy: 0.9252\n",
      "Epoch 131/1000\n",
      "399/399 [==============================] - 9s 22ms/step - loss: 0.4668 - accuracy: 0.9289 - val_loss: 0.4714 - val_accuracy: 0.9287\n",
      "Epoch 132/1000\n",
      "399/399 [==============================] - 9s 22ms/step - loss: 0.4714 - accuracy: 0.9278 - val_loss: 0.4932 - val_accuracy: 0.9236\n",
      "Epoch 133/1000\n",
      "399/399 [==============================] - 9s 21ms/step - loss: 0.4716 - accuracy: 0.9282 - val_loss: 0.4688 - val_accuracy: 0.9254\n",
      "Epoch 134/1000\n",
      "399/399 [==============================] - 9s 21ms/step - loss: 0.4727 - accuracy: 0.9264 - val_loss: 0.4685 - val_accuracy: 0.9283\n",
      "Epoch 135/1000\n",
      "399/399 [==============================] - 9s 22ms/step - loss: 0.4696 - accuracy: 0.9273 - val_loss: 0.4958 - val_accuracy: 0.9216\n",
      "Epoch 136/1000\n",
      "399/399 [==============================] - 9s 23ms/step - loss: 0.4722 - accuracy: 0.9282 - val_loss: 0.4737 - val_accuracy: 0.9274\n",
      "Epoch 137/1000\n",
      "399/399 [==============================] - 9s 22ms/step - loss: 0.4666 - accuracy: 0.9286 - val_loss: 0.4785 - val_accuracy: 0.9252\n",
      "Epoch 138/1000\n",
      "399/399 [==============================] - 9s 21ms/step - loss: 0.4620 - accuracy: 0.9298 - val_loss: 0.4806 - val_accuracy: 0.9219\n",
      "Epoch 139/1000\n",
      "399/399 [==============================] - 9s 22ms/step - loss: 0.4719 - accuracy: 0.9278 - val_loss: 0.4788 - val_accuracy: 0.9233\n",
      "Epoch 140/1000\n",
      "399/399 [==============================] - 9s 21ms/step - loss: 0.4644 - accuracy: 0.9296 - val_loss: 0.5093 - val_accuracy: 0.9103\n",
      "Epoch 141/1000\n",
      "399/399 [==============================] - 9s 22ms/step - loss: 0.4748 - accuracy: 0.9268 - val_loss: 0.4980 - val_accuracy: 0.9188\n",
      "Epoch 142/1000\n",
      "399/399 [==============================] - 9s 22ms/step - loss: 0.4671 - accuracy: 0.9280 - val_loss: 0.4819 - val_accuracy: 0.9213\n",
      "Epoch 143/1000\n",
      "399/399 [==============================] - 9s 23ms/step - loss: 0.4659 - accuracy: 0.9278 - val_loss: 0.4771 - val_accuracy: 0.9230\n",
      "Epoch 144/1000\n",
      "399/399 [==============================] - 9s 22ms/step - loss: 0.4662 - accuracy: 0.9283 - val_loss: 0.4751 - val_accuracy: 0.9250\n",
      "Epoch 145/1000\n",
      "399/399 [==============================] - 9s 22ms/step - loss: 0.4689 - accuracy: 0.9280 - val_loss: 0.4816 - val_accuracy: 0.9239\n",
      "Epoch 146/1000\n",
      "399/399 [==============================] - 9s 21ms/step - loss: 0.4603 - accuracy: 0.9278 - val_loss: 0.4657 - val_accuracy: 0.9278\n",
      "Epoch 147/1000\n",
      "399/399 [==============================] - 9s 22ms/step - loss: 0.4642 - accuracy: 0.9295 - val_loss: 0.4876 - val_accuracy: 0.9214\n"
     ]
    }
   ],
   "source": [
    "history = train_cnn_model(cnn_model, train_data, train_labels_onehot, 0.15, epochs=1000, batch_size=128, patience=30)"
   ]
  },
  {
   "cell_type": "code",
   "execution_count": 29,
   "metadata": {
    "id": "Mhu2Xj2w7NeQ",
    "outputId": "d709b71e-eb24-4eb4-a492-44032fb86299"
   },
   "outputs": [
    {
     "data": {
      "text/plain": [
       "<matplotlib.axes._subplots.AxesSubplot at 0x7fafde1bd710>"
      ]
     },
     "execution_count": 29,
     "metadata": {},
     "output_type": "execute_result"
    },
    {
     "data": {
      "image/png": "[encoded data removed]",
      "text/plain": [
       "<Figure size 432x288 with 1 Axes>"
      ]
     },
     "metadata": {
      "needs_background": "light"
     },
     "output_type": "display_data"
    },
    {
     "data": {
      "image/png": "[encoded data removed]",
      "text/plain": [
       "<Figure size 432x288 with 1 Axes>"
      ]
     },
     "metadata": {
      "needs_background": "light"
     },
     "output_type": "display_data"
    }
   ],
   "source": [
    "df = pd.DataFrame(history.history)\n",
    "df.plot(y=['loss', 'val_loss'])\n",
    "df.plot(y=['accuracy', 'val_accuracy'])"
   ]
  },
  {
   "cell_type": "markdown",
   "metadata": {
    "id": "9BZreuaR7NeS"
   },
   "source": [
    "# EVALUATING THE FINAL MODEL"
   ]
  },
  {
   "cell_type": "code",
   "execution_count": 30,
   "metadata": {
    "id": "zfq_NLKx7NeS"
   },
   "outputs": [],
   "source": [
    "def evaluate_model(model, test_data, test_labels):\n",
    "    return model.evaluate(test_data, test_labels, verbose=1)"
   ]
  },
  {
   "cell_type": "code",
   "execution_count": 31,
   "metadata": {
    "id": "oytFNXWH7NeU",
    "outputId": "7b3ba3db-97d0-42b1-d1ff-dc86fc43e100"
   },
   "outputs": [
    {
     "name": "stdout",
     "output_type": "stream",
     "text": [
      "313/313 [==============================] - 1s 4ms/step - loss: 0.4861 - accuracy: 0.9194\n"
     ]
    },
    {
     "data": {
      "text/plain": [
       "[0.4861167073249817, 0.9193999767303467]"
      ]
     },
     "execution_count": 31,
     "metadata": {},
     "output_type": "execute_result"
    }
   ],
   "source": [
    "test_labels_onehot = one_hot(test_labels, num_classes).numpy()\n",
    "\n",
    "FINAL_MODEL = cnn_model\n",
    "evaluate_model(FINAL_MODEL, test_data, test_labels_onehot)"
   ]
  },
  {
   "cell_type": "code",
   "execution_count": 32,
   "metadata": {
    "id": "QNyo0E_T7NeV",
    "outputId": "4885feff-2b3a-4f32-b230-05fe246818bc"
   },
   "outputs": [
    {
     "data": {
      "text/plain": [
       "Shirt          221\n",
       "Pullover       152\n",
       "Coat           134\n",
       "T-shirt/top    131\n",
       "Sneaker         59\n",
       "Dress           38\n",
       "Sandal          27\n",
       "Ankle boot      22\n",
       "Bag             18\n",
       "Trouser          4\n",
       "dtype: int64"
      ]
     },
     "execution_count": 32,
     "metadata": {},
     "output_type": "execute_result"
    }
   ],
   "source": [
    "incorrects = tensorflow.argmax(FINAL_MODEL.predict(test_data.iloc[:]), axis=1) != test_labels\n",
    "incorrect_classes = pd.Series(name_labels[i] for i in test_labels[incorrects])\n",
    "incorrect_classes.value_counts()"
   ]
  },
  {
   "cell_type": "markdown",
   "metadata": {
    "id": "65-f4Gz17NeX"
   },
   "source": [
    "# PREDICTION"
   ]
  },
  {
   "cell_type": "code",
   "execution_count": 33,
   "metadata": {
    "id": "9ctBWosu7NeX",
    "outputId": "a2ce0182-6f3f-4f4a-cd25-590f6c63fa00"
   },
   "outputs": [
    {
     "data": {
      "text/plain": [
       "<tensorflow.python.training.tracking.util.CheckpointLoadStatus at 0x7faf6c215ad0>"
      ]
     },
     "execution_count": 33,
     "metadata": {},
     "output_type": "execute_result"
    }
   ],
   "source": [
    "#MODEL_PATH = './baseline_model_checkpoint/checkpoint'\n",
    "#MODEL_PATH = './baseline_model_with_regularization_checkpoint/checkpoint'\n",
    "MODEL_PATH = './cnn_model_checkpoint/checkpoint'\n",
    "\n",
    "#pretrained_model = get_baseline_model(train_data.iloc[0].shape)\n",
    "#pretrained_model = get_baseline_model_with_regularization(train_data.iloc[0].shape, 0.3, 3e-4)\n",
    "pretrained_model = get_cnn_model(train_data.iloc[0].shape, 0.3, 3e-4)\n",
    "\n",
    "pretrained_model.load_weights(MODEL_PATH)"
   ]
  },
  {
   "cell_type": "code",
   "execution_count": 34,
   "metadata": {
    "id": "VKZqPKkA7Nea",
    "outputId": "c7fcb5e0-05ba-4918-fd51-350571080398"
   },
   "outputs": [
    {
     "data": {
      "image/png": "[encoded data removed]",
      "text/plain": [
       "<Figure size 1440x2016 with 20 Axes>"
      ]
     },
     "metadata": {
      "needs_background": "light"
     },
     "output_type": "display_data"
    }
   ],
   "source": [
    "random_test_idx = np.random.choice(m_test, 10)\n",
    "predictions = pretrained_model.predict(test_data.iloc[random_test_idx])\n",
    "\n",
    "fig, ax = plt.subplots(10, 2, figsize=(20,28))\n",
    "fig.subplots_adjust(hspace=0.4, wspace=-0.2)\n",
    "\n",
    "for i in range(10):\n",
    "    ax[i,0].set_axis_off()\n",
    "    ax[i,0].imshow(test_data.iloc[random_test_idx[i]].to_numpy().reshape((28,28)))\n",
    "    ax[i,0].set_title(name_labels[test_labels[random_test_idx[i]]])\n",
    "    ax[i,1].bar(np.arange(len(predictions)), predictions[i])\n",
    "    ax[i,1].set_xticks(np.arange(len(predictions)))\n",
    "    ax[i,1].set_title(f\"Categorical distribution. Model prediction: {name_labels[np.argmax(predictions[i])]}\")"
   ]
  }
 ],
 "metadata": {
  "kernelspec": {
   "display_name": "Python 3",
   "language": "python",
   "name": "python3"
  },
  "language_info": {
   "codemirror_mode": {
    "name": "ipython",
    "version": 3
   },
   "file_extension": ".py",
   "mimetype": "text/x-python",
   "name": "python",
   "nbconvert_exporter": "python",
   "pygments_lexer": "ipython3",
   "version": "3.7.4"
  }
 },
 "nbformat": 4,
 "nbformat_minor": 4
}
